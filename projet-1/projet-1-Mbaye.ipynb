{
 "cells": [
  {
   "cell_type": "markdown",
   "metadata": {},
   "source": [
    "IA & Data science (LU3IN0226) -- 2021-2022\n",
    "--------\n",
    "*&copy; Equipe pédagogique: Vincent Guigue, Christophe Marsala, Olivier Schwander.*"
   ]
  },
  {
   "cell_type": "markdown",
   "metadata": {},
   "source": [
    "<font size=\"+1\" color=\"RED\"><b>[Q]</b></font> <font size=\"+1\"><b>Indiquer dans la boîte ci-dessous vos noms et prénoms :</b></font>"
   ]
  },
  {
   "cell_type": "markdown",
   "metadata": {},
   "source": [
    "Souleymane MBAYE"
   ]
  },
  {
   "cell_type": "markdown",
   "metadata": {},
   "source": [
    "Ce projet peut être fait (c'est même recommandé) en binôme. Le nom de chaque membre du binôme doit être indiqué, et un seul rendu sur un des deux comptes Moodle doit être fait.\n",
    "\n",
    "Les groupes de plus de 2 personnes ne sont pas autorisés."
   ]
  },
  {
   "cell_type": "markdown",
   "metadata": {},
   "source": [
    "<font color=\"RED\" size=\"+1\"><b>[Q]</b></font> **Renommer ce fichier ipython**\n",
    "\n",
    "Tout en haut de cette page, cliquer sur <tt>projet-1</tt> et rajouter à la suite de <tt>projet-1</tt> les noms des membres du binômes séparés par un tiret.\n",
    "\n",
    "<font color=\"RED\" size=\"+1\">IMPORTANT: soumission de votre fichier final</font>\n",
    "\n",
    "**Nom à donner au notebook** : *projet-1-Nom1_Nom2.ipynb* \n",
    "- *Nom1* et *Nom2* : noms des membres du binôme\n",
    "\n",
    "**Le compte-rendu doit être rendu sur la page Moodle.**"
   ]
  },
  {
   "cell_type": "markdown",
   "metadata": {},
   "source": [
    "# Projet 1 - mars 2022\n",
    "\n",
    "\n",
    "<font size=\"+1\" color=\"RED\"><b>Date de rendu : vendredi 25 mars, 18h au plus tard</b></font>\n",
    "<br />\n",
    "\n",
    "\n",
    "Vous devez compléter ce notebook en rajoutant vos expérimentations avec vos algorithmes d'apprentissage sur:\n",
    "- les données Bases_IADS : cela correspond à un problème de classification binaire\n",
    "- les données Bases_IADS_multiclasses : cela correspond à un problème de classification multiclasses\n",
    "\n",
    "Très important : les fichiers de données doivent être placés de façon à respecter la structure de fichiers suivantes:\n",
    "\n",
    "          -- ce_notebook.ipynb\n",
    "          -- Bases_IADS/ \n",
    "              -- README.txt\n",
    "              -- train.csv\n",
    "              -- test.csv\n",
    "              -- eval.csv\n",
    "              -- names.csv\n",
    "          -- Bases_IADS_multiclasses/\n",
    "              -- README.txt\n",
    "              -- train_multi.csv\n",
    "              -- test_multi.csv\n",
    "              -- eval_multi.csv\n",
    "              -- names_multi.csv\n",
    "\n",
    "Dans le notebook, le chargement des fichiers de données considèrera donc cette arborescence.\n",
    "\n",
    "\n",
    "Les fichiers de chaque répertoire correspondent à:\n",
    "- fichier README.txt : donne des explications sur le contenu du répertoire\n",
    "- fichier train*.csv : base d'apprentissage à utiliser pour construire le classfieur\n",
    "- fichier test*.csv : base de test pour évaluer vous même le classifieur construit. Les exemples de ce fichier NE DOIVENT PAS être utilisés pour l'apprentissage du classifieur.\n",
    "- fichier eval*.csv : fichier d'évaluation du classifieur (voir ci-dessous).\n",
    "\n",
    "## Travail à faire\n",
    "\n",
    "Pour chaque ensemble de données:\n",
    "- les 2 algorithmes d'apprentissage knn et perceptron doivent être expérimentés et comparés (ATTENTION: on ne veut que des algorithmes que vous avez implémentés vous-même dans cette UE).\n",
    "- des résultats d'expérimentations pourront être : comparaison des taux de bonne classification apprentissage / test (avec validation croisée), visualisation, etc.\n",
    "- de plus, un fichier `eval.csv` est fourni. Ce fichier contient des descriptions associées à un \"faux\" label. Dans votre compte-rendu, vous devez fournir un fichier CSV qui donne, pour chaque exemple du fichier `eval.csv`la classe trouvée par votre meilleur classifieur. Ainsi, le fichier CSV à rendre doit comporter 2 colonnes et autant de lignes que d'exemples (une ligne par exemple du fichier eval):<br>\n",
    "            IDENTIFIANT;CLASSE_TROUVEE_POUR_CET_EXEMPLE\n",
    "            ...\n",
    "Le résultat de classification vous sera donné en retour (nous connaissons la vraie classe des exemples de ce fichier...).\n",
    "\n",
    "Vos **expérimentations doivent être expliquées** (utilisez des boîtes Markdown pour saisir vos explications):\n",
    "- une argumentation du type *\"pourquoi vous avez fait cette expérimentation\"* doit être fournie;\n",
    "- une analyse succincte du résultat fourni doit être aussi donnée.\n",
    "\n",
    "\n",
    "Par exemple (indicatif): choix de $k$ pour le knn:\n",
    "- argumentation : pour décider quelle peut être la valeur de $k$ optimale, on décide de tester plusieurs valeurs différentes et de comparer les taux de bonne classification sur la base de test obtenus.\n",
    "- analyse du résultat: on remarque que la valeur $k$ suivante fournie le meilleur résultat.\n",
    "\n",
    "\n",
    "\n",
    "## Travail à rendre\n",
    "Ce qui doit être rendu : un fichier archive (`.tar`, `.tgz`, ou `.zip` uniquement)\n",
    "- ce notebook, dans lequel vous avez reporté toutes les fonctions que vous utilisez : ce notebook doit pouvoir être exécuté sans autre apport (pensez à vous en assurer avant de le rendre). Les fichiers de données ne doivent pas être inclus dans votre archive !\n",
    "- un fichier CSV dont le nom est de la forme: *projet-1-Nom1_Nom2.csv* (sur le modèle du nom du notebook) qui donne la classe de chaque exemple du fichier `eval.csv` trouvée par votre classifieur.\n",
    "\n",
    "\n",
    "**Remarque**: en considérant que les algorithmes knn et perceptron ont été réalisés lors des séances de TME 1 à 6, le travail demandé pour ce projet correspond à, au plus, une séance complète de TME."
   ]
  },
  {
   "cell_type": "markdown",
   "metadata": {},
   "source": [
    "## Import des algorithmes"
   ]
  },
  {
   "cell_type": "code",
   "execution_count": 194,
   "metadata": {},
   "outputs": [],
   "source": [
    "# Import de packages externes\n",
    "import numpy as np\n",
    "import pandas as pd\n",
    "import copy\n",
    "import time"
   ]
  },
  {
   "cell_type": "code",
   "execution_count": 195,
   "metadata": {},
   "outputs": [],
   "source": [
    "class Classifier:\n",
    "  \"\"\" Classe (abstraite) pour représenter un classifieur\n",
    "      Attention: cette classe est ne doit pas être instanciée.\n",
    "  \"\"\"\n",
    "  \n",
    "  def __init__(self, input_dimension):\n",
    "    \"\"\" Constructeur de Classifier\n",
    "      Argument:\n",
    "          - intput_dimension (int) : dimension de la description des exemples\n",
    "      Hypothèse : input_dimension > 0\n",
    "    \"\"\"\n",
    "    raise NotImplementedError(\"Please Implement this method\")\n",
    "      \n",
    "  def train(self, desc_set, label_set):\n",
    "      \"\"\" Permet d'entrainer le modele sur l'ensemble donné\n",
    "          desc_set: ndarray avec des descriptions\n",
    "          label_set: ndarray avec les labels correspondants\n",
    "          Hypothèse: desc_set et label_set ont le même nombre de lignes\n",
    "      \"\"\"        \n",
    "      raise NotImplementedError(\"Please Implement this method\")\n",
    "  \n",
    "  def score(self,x):\n",
    "      \"\"\" rend le score de prédiction sur x (valeur réelle)\n",
    "          x: une description\n",
    "      \"\"\"\n",
    "      raise NotImplementedError(\"Please Implement this method\")\n",
    "  \n",
    "  def predict(self, x):\n",
    "      \"\"\" rend la prediction sur x (soit -1 ou soit +1)\n",
    "          x: une description\n",
    "      \"\"\"\n",
    "      raise NotImplementedError(\"Please Implement this method\")\n",
    "\n",
    "  def accuracy(self, desc_set, label_set):\n",
    "    \"\"\" Permet de calculer la qualité du système sur un dataset donné\n",
    "        desc_set: ndarray avec des descriptions\n",
    "        label_set: ndarray avec les labels correspondants\n",
    "        Hypothèse: desc_set et label_set ont le même nombre de lignes\n",
    "    \"\"\"\n",
    "    # ------------------------------\n",
    "    # COMPLETER CETTE FONCTION ICI : \n",
    "    yhat = np.array([self.predict(x) for x in desc_set])\n",
    "    return np.where(label_set == yhat, 1., 0.).mean()\n"
   ]
  },
  {
   "cell_type": "code",
   "execution_count": 196,
   "metadata": {},
   "outputs": [],
   "source": [
    "class ClassifierKNN(Classifier):\n",
    "    \"\"\" Classe pour représenter un classifieur par K plus proches voisins.\n",
    "        Cette classe hérite de la classe Classifier\n",
    "    \"\"\"\n",
    "\n",
    "    # ATTENTION : il faut compléter cette classe avant de l'utiliser !\n",
    "    \n",
    "    def __init__(self, input_dimension, k):\n",
    "        \"\"\" Constructeur de Classifier\n",
    "            Argument:\n",
    "                - intput_dimension (int) : dimension d'entrée des exemples\n",
    "                - k (int) : nombre de voisins à considérer\n",
    "            Hypothèse : input_dimension > 0\n",
    "        \"\"\"\n",
    "        self.dimension = input_dimension\n",
    "        self.k = k\n",
    "        self.desc_set = None\n",
    "        self.label_set = None\n",
    "        \n",
    "    def score(self,x):\n",
    "        \"\"\" rend la proportion de +1 parmi les k ppv de x (valeur réelle)\n",
    "            x: une description : un ndarray\n",
    "        \"\"\"\n",
    "        taille = len(self.desc_set)\n",
    "        tab_dist_x = np.zeros(taille)\n",
    "        for i in range(taille) :\n",
    "            tab_dist_x[i] = np.dot(x-self.desc_set[i], x-self.desc_set[i])\n",
    "        voisins_ord = np.argsort(tab_dist_x)\n",
    "        k_1 = 0\n",
    "        for i in range(self.k):\n",
    "            if self.label_set[voisins_ord[i]] == 1 :\n",
    "                k_1 += 1\n",
    "        p = float(k_1) / float(self.k)\n",
    "        return 2*(p - 0.5)\n",
    "    def predict(self, x):\n",
    "        \"\"\" rend la prediction sur x (-1 ou +1)\n",
    "            x: une description : un ndarray\n",
    "        \"\"\"\n",
    "        return 1 if (self.score(x) >= 0) else -1\n",
    "        \n",
    "\n",
    "    def train(self, desc_set, label_set):\n",
    "        \"\"\" Permet d'entrainer le modele sur l'ensemble donné\n",
    "            desc_set: ndarray avec des descriptions\n",
    "            label_set: ndarray avec les labels correspondants\n",
    "            Hypothèse: desc_set et label_set ont le même nombre de lignes\n",
    "        \"\"\"        \n",
    "        self.desc_set = desc_set\n",
    "        self.label_set = label_set\n"
   ]
  },
  {
   "cell_type": "code",
   "execution_count": 197,
   "metadata": {},
   "outputs": [],
   "source": [
    "class ClassifierPerceptron(Classifier):\n",
    "    \"\"\" Perceptron de Rosenblatt\n",
    "    \"\"\"\n",
    "    def __init__(self, input_dimension, learning_rate, init=0):\n",
    "        \"\"\" Constructeur de Classifier\n",
    "            Argument:\n",
    "                - input_dimension (int) : dimension de la description des exemples (>0)\n",
    "                - learning_rate : epsilon\n",
    "                - init est le mode d'initialisation de w: \n",
    "                    - si 0 (par défaut): initialisation à 0 de w,\n",
    "                    - si 1 : initialisation par tirage aléatoire de valeurs petites\n",
    "        \"\"\"\n",
    "        self.dimension = input_dimension\n",
    "        self.learning_rate = learning_rate\n",
    "\n",
    "        self.w = np.zeros(self.dimension)\n",
    "        if init != 0:\n",
    "          petit_reel = 0.001\n",
    "          self.w = (2*(np.random.rand(self.dimension)) - 1) * petit_reel\n",
    "    \n",
    "    def train_step(self, desc_set, label_set):\n",
    "        \"\"\" Réalise une unique itération sur tous les exemples du dataset\n",
    "            donné en prenant les exemples aléatoirement.\n",
    "            Arguments:\n",
    "                - desc_set: ndarray avec des descriptions\n",
    "                - label_set: ndarray avec les labels correspondants\n",
    "        \"\"\"        \n",
    "        taille = len(desc_set)  # nombre de variables Xi contenues dans X(desc_set)\n",
    "        ind_val_alea = np.array([i for i in range(taille)])\n",
    "        np.random.shuffle(ind_val_alea) # ordre des Xi aleatoire\n",
    "        \n",
    "        for i in ind_val_alea:\n",
    "            sc = self.score(desc_set[i])    # prediction avec w\n",
    "            # Si bien prédit alors le score et Yi sont de même signe\n",
    "            if sc*label_set[i] <= 0:\n",
    "                epYi = np.array([self.learning_rate*label_set[i]]*self.dimension)\n",
    "                self.w += epYi * desc_set[i]\n",
    "     \n",
    "    def train(self, desc_set, label_set, niter_max=100, seuil=0.001):\n",
    "        \"\"\" Apprentissage itératif du perceptron sur le dataset donné.\n",
    "            Arguments:\n",
    "                - desc_set: ndarray avec des descriptions\n",
    "                - label_set: ndarray avec les labels correspondants\n",
    "                - niter_max (par défaut: 100) : nombre d'itérations maximale\n",
    "                - seuil (par défaut: 0.001) : seuil de convergence\n",
    "            Retour: la fonction rend une liste\n",
    "                - liste des valeurs de norme de différences\n",
    "        \"\"\"        \n",
    "        l_diff = []\n",
    "        for i in range(niter_max):\n",
    "            w_pred = np.copy(self.w)\n",
    "            self.train_step(desc_set,label_set)\n",
    "            w_pred -= self.w\n",
    "            w_pred = np.sqrt(w_pred ** 2)\n",
    "            \n",
    "            diff = np.sum(w_pred) - seuil\n",
    "            l_diff.append(diff)\n",
    "            if diff <= 0:\n",
    "                return l_diff\n",
    "        \n",
    "        # print(\"Nombre d'itérations max atteint !\")\n",
    "        return l_diff\n",
    "    \n",
    "    def score(self,x):\n",
    "        \"\"\" rend le score de prédiction sur x (valeur réelle)\n",
    "            x: une description\n",
    "        \"\"\"\n",
    "        return np.dot(x, self.w)\n",
    "    \n",
    "    def predict(self, x):\n",
    "        \"\"\" rend la prediction sur x (soit -1 ou soit +1)\n",
    "            x: une description\n",
    "        \"\"\"\n",
    "        return 1 if self.score(x) >= 0 else -1\n"
   ]
  },
  {
   "cell_type": "code",
   "execution_count": 198,
   "metadata": {},
   "outputs": [],
   "source": [
    "class Kernel():\n",
    "    \"\"\" Classe pour représenter des fonctions noyau\n",
    "    \"\"\"\n",
    "    def __init__(self, dim_in, dim_out):\n",
    "        \"\"\" Constructeur de Kernel\n",
    "            Argument:\n",
    "                - dim_in : dimension de l'espace de départ (entrée du noyau)\n",
    "                - dim_out: dimension de l'espace de d'arrivée (sortie du noyau)\n",
    "        \"\"\"\n",
    "        self.input_dim = dim_in\n",
    "        self.output_dim = dim_out\n",
    "        \n",
    "    def get_input_dim(self):\n",
    "        \"\"\" rend la dimension de l'espace de départ\n",
    "        \"\"\"\n",
    "        return self.input_dim\n",
    "\n",
    "    def get_output_dim(self):\n",
    "        \"\"\" rend la dimension de l'espace d'arrivée\n",
    "        \"\"\"\n",
    "        return self.output_dim\n",
    "    \n",
    "    def transform(self, V):\n",
    "        \"\"\" ndarray -> ndarray\n",
    "            fonction pour transformer V dans le nouvel espace de représentation\n",
    "        \"\"\"        \n",
    "        raise NotImplementedError(\"Please Implement this method\")\n"
   ]
  },
  {
   "cell_type": "code",
   "execution_count": 199,
   "metadata": {},
   "outputs": [],
   "source": [
    "class KernelBias(Kernel):\n",
    "    \"\"\" Classe pour un noyau simple 2D -> 3D\n",
    "    \"\"\"\n",
    "    def transform(self, V):\n",
    "        \"\"\" ndarray de dim 2 -> ndarray de dim 3            \n",
    "            rajoute une 3e dimension au vecteur donné\n",
    "        \"\"\"\n",
    "        V_proj = np.append(V,np.ones((len(V),1)),axis=1)\n",
    "        return V_proj\n"
   ]
  },
  {
   "cell_type": "code",
   "execution_count": 200,
   "metadata": {},
   "outputs": [],
   "source": [
    "class KernelPoly(Kernel):\n",
    "  def __init__(self, dim_in, dim_out):\n",
    "    super().__init__(dim_in,dim_out)\n",
    "    self.output_dim = int(1 + 2*self.input_dim + (1/2)* self.input_dim *(self.input_dim-1))\n",
    "  \n",
    "  def transform(self, V):\n",
    "    \"\"\" ndarray de dim 2 -> ndarray de dim 6            \n",
    "      ...\n",
    "    \"\"\"\n",
    "    V_ap = []\n",
    "    \n",
    "    k=-1\n",
    "    for i in range(0,self.input_dim):\n",
    "      for j in range(i,self.input_dim):\n",
    "        k += 1\n",
    "        V_ap.append(V[:,i]*V[:,j])\n",
    "    V_ap = np.array(V_ap).T\n",
    "\n",
    "    V_1 = np.ones((len(V), 1))\n",
    "    V = np.append(V_1, V, axis=1)\n",
    "\n",
    "    return np.append(V, V_ap, axis=1)\n"
   ]
  },
  {
   "cell_type": "code",
   "execution_count": 201,
   "metadata": {},
   "outputs": [],
   "source": [
    "class ClassifierPerceptronKernel(Classifier):\n",
    "    \"\"\" Perceptron de Rosenblatt kernelisé\n",
    "    \"\"\"\n",
    "    def __init__(self, input_dimension, learning_rate, noyau, init=0):\n",
    "        \"\"\"int x float x Kernel x int -> ClassifierPerceptronKernel\n",
    "            Constructeur de Classifier\n",
    "            Argument:\n",
    "                - input_dimension (int) : dimension de la description des exemples (espace originel)\n",
    "                - learning_rate : epsilon\n",
    "                - noyau : Kernel à utiliser\n",
    "                - init est le mode d'initialisation de w: \n",
    "                    - si 0 (par défaut): initialisation à 0 de w,\n",
    "                    - si 1 : initialisation par tirage aléatoire de valeurs petites\n",
    "        \"\"\"\n",
    "        self.dimension = input_dimension\n",
    "        self.learning_rate = learning_rate\n",
    "        self.kernel = noyau\n",
    "\n",
    "        self.w = np.zeros(self.kernel.get_output_dim())\n",
    "        if init != 0:\n",
    "          petit_reel = 0.001\n",
    "          self.w = (2*(np.random.rand(self.kernel.get_output_dim())) - 1) * petit_reel\n",
    "        \n",
    "    def train_step(self, desc_set, label_set):\n",
    "        \"\"\" \n",
    "            Réalise une unique itération sur tous les exemples du dataset\n",
    "            donné en prenant les exemples aléatoirement.\n",
    "            Arguments: (dans l'espace originel)\n",
    "                - desc_set: ndarray avec des descriptions\n",
    "                - label_set: ndarray avec les labels correspondants\n",
    "        \"\"\"        \n",
    "        if np.shape(desc_set)[1] == self.kernel.get_input_dim():\n",
    "            desc_set = self.kernel.transform(desc_set)  # Kernalisation\n",
    "        taille,d = np.shape(desc_set)  # nombre de variables Xi contenues dans X(desc_set)\n",
    "        ind_val_alea = np.array([i for i in range(taille)])\n",
    "        np.random.shuffle(ind_val_alea) # ordre des Xi aleatoire\n",
    "        \n",
    "        for i in ind_val_alea:\n",
    "            sc = self.score(desc_set[i])    # prediction avec w\n",
    "            # Si bien prédit alors le score et Yi sont de même signe\n",
    "            if sc*label_set[i] <= 0:\n",
    "                epYi = np.array([self.learning_rate*label_set[i]]*d)\n",
    "                self.w += epYi * desc_set[i]\n",
    "     \n",
    "    def train(self, desc_set, label_set, niter_max=100, seuil=0.001):\n",
    "        \"\"\" Apprentissage itératif du perceptron sur le dataset donné.\n",
    "            Arguments: (dans l'espace originel)\n",
    "                - desc_set: ndarray avec des descriptions\n",
    "                - label_set: ndarray avec les labels correspondants\n",
    "                - niter_max (par défaut: 100) : nombre d'itérations maximale\n",
    "                - seuil (par défaut: 0.01) : seuil de convergence\n",
    "            Retour: la fonction rend une liste\n",
    "                - liste des valeurs de norme de différences\n",
    "        \"\"\"        \n",
    "        if np.shape(desc_set)[1] == self.kernel.get_input_dim():\n",
    "            desc_set = self.kernel.transform(desc_set)  # Kernalisation\n",
    "        l_diff = []\n",
    "        for i in range(niter_max):\n",
    "            w_pred = np.copy(self.w)\n",
    "            self.train_step(desc_set,label_set)\n",
    "            w_pred -= self.w\n",
    "            w_pred = np.sqrt(w_pred ** 2)\n",
    "            \n",
    "            diff = np.sum(w_pred) - seuil\n",
    "            l_diff.append(diff)\n",
    "            if diff <= 0:\n",
    "                return l_diff\n",
    "        \n",
    "        # print(\"Nombre d'itérations max atteint !\")\n",
    "        return l_diff\n",
    "    \n",
    "    def score(self,x):\n",
    "        \"\"\" rend le score de prédiction sur x \n",
    "            x: une description (dans l'espace originel)\n",
    "        \"\"\"\n",
    "        if np.shape(x)[0] == self.kernel.get_input_dim():\n",
    "            x = self.kernel.transform(x.reshape(1,self.kernel.get_input_dim()))  # Kernalisation\n",
    "\n",
    "        return np.dot(x,self.w)\n",
    "    \n",
    "    def predict(self, x):\n",
    "        \"\"\" rend la prediction sur x (soit -1 ou soit +1)\n",
    "            x: une description (dans l'espace originel)\n",
    "        \"\"\"\n",
    "        return 1 if self.score(x) >= 0 else -1\n"
   ]
  },
  {
   "cell_type": "code",
   "execution_count": 202,
   "metadata": {},
   "outputs": [],
   "source": [
    "class ClassifierPerceptronBiais(Classifier):\n",
    "    \"\"\" Perceptron de Rosenblatt\n",
    "    \"\"\"\n",
    "    def __init__(self, input_dimension, learning_rate, init=0):\n",
    "        \"\"\" Constructeur de Classifier\n",
    "            Argument:\n",
    "                - input_dimension (int) : dimension de la description des exemples (>0)\n",
    "                - learning_rate : epsilon\n",
    "                - init est le mode d'initialisation de w: \n",
    "                    - si 0 (par défaut): initialisation à 0 de w,\n",
    "                    - si 1 : initialisation par tirage aléatoire de valeurs petites\n",
    "        \"\"\"\n",
    "        self.dimension = input_dimension\n",
    "        self.learning_rate = learning_rate\n",
    "\n",
    "        self.w = np.zeros(self.dimension)\n",
    "        if init == 1:\n",
    "          petit_reel = 0.001\n",
    "          for i in range(self.dimension):\n",
    "            v = (2*(np.random.rand()) - 1) * petit_reel\n",
    "            self.w[i] = v\n",
    "        self.allw = [self.w.copy()]\n",
    "    \n",
    "    def get_allw(self):\n",
    "        return self.allw\n",
    "    \n",
    "    def train_step(self, desc_set, label_set):\n",
    "        \"\"\" Réalise une unique itération sur tous les exemples du dataset\n",
    "            donné en prenant les exemples aléatoirement.\n",
    "            Arguments:\n",
    "                - desc_set: ndarray avec des descriptions\n",
    "                - label_set: ndarray avec les labels correspondants\n",
    "        \"\"\"        \n",
    "        taille = len(desc_set)  # nombre de variables Xi contenues dans X(desc_set)\n",
    "        ind_val_alea = np.array([i for i in range(taille)])\n",
    "        np.random.shuffle(ind_val_alea) # ordre des Xi aleatoire\n",
    "        \n",
    "        for i in ind_val_alea:\n",
    "            fxi = self.score(desc_set[i])    # prediction avec w\n",
    "            # Si bien prédit alors le score et Yi sont de même signe\n",
    "            if fxi*label_set[i] <= 1:\n",
    "                # epYi_fxi = np.array([self.learning_rate*(label_set[i]-fxi)]*self.dimension)\n",
    "                self.w += self.learning_rate*label_set[i] * desc_set[i]\n",
    "                self.allw.append(self.w.copy())\n",
    "     \n",
    "    def train(self, desc_set, label_set, niter_max=100, seuil=0.001):\n",
    "        \"\"\" Apprentissage itératif du perceptron sur le dataset donné.\n",
    "            Arguments:\n",
    "                - desc_set: ndarray avec des descriptions\n",
    "                - label_set: ndarray avec les labels correspondants\n",
    "                - niter_max (par défaut: 100) : nombre d'itérations maximale\n",
    "                - seuil (par défaut: 0.001) : seuil de convergence\n",
    "            Retour: la fonction rend une liste\n",
    "                - liste des valeurs de norme de différences\n",
    "        \"\"\"        \n",
    "        # self.allw = [self.w.copy()]\n",
    "        l_diff = []\n",
    "        for i in range(niter_max):\n",
    "            w_pred = np.copy(self.w)\n",
    "            self.train_step(desc_set,label_set)\n",
    "            w_pred -= self.w\n",
    "            w_pred = np.sqrt(w_pred ** 2)\n",
    "            \n",
    "            diff = np.sum(w_pred) - seuil\n",
    "            l_diff.append(diff)\n",
    "            # self.allw.append(self.w.copy())\n",
    "            if diff <= 0:\n",
    "                return l_diff\n",
    "        \n",
    "        # print(\"Nombre d'itérations max atteint !\")\n",
    "        return l_diff\n",
    "    \n",
    "    def score(self,x):\n",
    "        \"\"\" rend le score de prédiction sur x (valeur réelle)\n",
    "            x: une description\n",
    "        \"\"\"\n",
    "        return np.dot(x, self.w)\n",
    "    \n",
    "    def predict(self, x):\n",
    "        \"\"\" rend la prediction sur x (soit -1 ou soit +1)\n",
    "            x: une description\n",
    "        \"\"\"\n",
    "        return 1 if self.score(x) >= 0 else -1\n"
   ]
  },
  {
   "cell_type": "code",
   "execution_count": 203,
   "metadata": {},
   "outputs": [],
   "source": [
    "class ClassifierMultiOAA(Classifier):\n",
    "    \"\"\" Perceptron de Rosenblatt\n",
    "    \"\"\"\n",
    "    def __init__(self,classif_bin):\n",
    "      \"\"\" Constructeur de Classifier\n",
    "        Argument:\n",
    "          - input_dimension (int) : dimension de la description des exemples (>0)\n",
    "          - learning_rate : epsilon\n",
    "          - init est le mode d'initialisation de w: \n",
    "            - si 0 (par défaut): initialisation à 0 de w,\n",
    "            - si 1 : initialisation par tirage aléatoire de valeurs petites\n",
    "      \"\"\"\n",
    "      self.classif_bin = classif_bin\n",
    "      self.classes = []\n",
    "    \n",
    "    def get_l_allw(self):\n",
    "      return np.array([c.get_allw() for c in self.classes])    \n",
    "    \n",
    "    def train(self, desc_set, label_set, niter_max=100, seuil=0.001):\n",
    "      \"\"\" Apprentissage itératif du perceptron sur le dataset donné.\n",
    "        Arguments:\n",
    "          - desc_set: ndarray avec des descriptions\n",
    "          - label_set: ndarray avec les labels correspondants\n",
    "          - niter_max (par défaut: 100) : nombre d'itérations maximale\n",
    "          - seuil (par défaut: 0.001) : seuil de convergence\n",
    "        Retour: la fonction rend une liste\n",
    "          - liste des valeurs de norme de différences\n",
    "      \"\"\"        \n",
    "      self.classes = []\n",
    "      l_diff = []\n",
    "      nb_classes = np.shape(np.unique(label_set))[0]\n",
    "      for i in range(0,nb_classes):\n",
    "        c = copy.deepcopy(self.classif_bin)\n",
    "        Ytmp = np.where(label_set==i, 1, -1)\n",
    "        d = c.train(desc_set,Ytmp)\n",
    "        self.classes.append(c)\n",
    "        l_diff.append(d)\n",
    "      \n",
    "      # print(\"Nombre d'itérations max atteint !\")\n",
    "      return l_diff\n",
    "    \n",
    "    def score(self,x):\n",
    "        \"\"\" rend le score de prédiction sur x (valeur réelle)\n",
    "            x: une description\n",
    "        \"\"\"\n",
    "        return np.array([c.score(x) for c in self.classes])\n",
    "    \n",
    "    def predict(self, x):\n",
    "        \"\"\" rend la prediction sur x (soit -1 ou soit +1)\n",
    "            x: une description\n",
    "        \"\"\"\n",
    "        return np.argmax(self.score(x))\n"
   ]
  },
  {
   "cell_type": "code",
   "execution_count": 204,
   "metadata": {},
   "outputs": [],
   "source": [
    "def analyse_perfs(perfs):\n",
    "  return np.mean(perfs),np.var(perfs)"
   ]
  },
  {
   "cell_type": "code",
   "execution_count": 205,
   "metadata": {},
   "outputs": [],
   "source": [
    "def crossval(X, Y, n_iterations, iteration):\n",
    "  deb= int(iteration*len(X)/n_iterations)\n",
    "  fin= int((iteration+1)*len(X)/n_iterations)  # sans le -1 pour aller < fin\n",
    "\n",
    "  Xtest,Ytest = X[deb:fin], Y[deb:fin]\n",
    "  Xapp, Yapp = np.concatenate((X[:deb],X[fin:])), np.concatenate((Y[:deb],Y[fin:]))\n",
    "  \n",
    "  return Xapp, Yapp, Xtest, Ytest"
   ]
  },
  {
   "cell_type": "markdown",
   "metadata": {},
   "source": [
    "## Importation des données de la Base IADS"
   ]
  },
  {
   "cell_type": "code",
   "execution_count": 210,
   "metadata": {},
   "outputs": [],
   "source": [
    "# Lecture des noms des colonnes\n",
    "iads_names_df = pd.read_csv(\"Bases_IADS/names.csv\",sep=\";\")"
   ]
  },
  {
   "cell_type": "code",
   "execution_count": 211,
   "metadata": {},
   "outputs": [
    {
     "data": {
      "text/html": [
       "<div>\n",
       "<style scoped>\n",
       "    .dataframe tbody tr th:only-of-type {\n",
       "        vertical-align: middle;\n",
       "    }\n",
       "\n",
       "    .dataframe tbody tr th {\n",
       "        vertical-align: top;\n",
       "    }\n",
       "\n",
       "    .dataframe thead th {\n",
       "        text-align: right;\n",
       "    }\n",
       "</style>\n",
       "<table border=\"1\" class=\"dataframe\">\n",
       "  <thead>\n",
       "    <tr style=\"text-align: right;\">\n",
       "      <th></th>\n",
       "      <th>ident</th>\n",
       "      <th>A001</th>\n",
       "      <th>A002</th>\n",
       "      <th>A003</th>\n",
       "      <th>A004</th>\n",
       "      <th>A005</th>\n",
       "      <th>A006</th>\n",
       "      <th>A007</th>\n",
       "      <th>A008</th>\n",
       "      <th>A009</th>\n",
       "      <th>...</th>\n",
       "      <th>A776</th>\n",
       "      <th>A777</th>\n",
       "      <th>A778</th>\n",
       "      <th>A779</th>\n",
       "      <th>A780</th>\n",
       "      <th>A781</th>\n",
       "      <th>A782</th>\n",
       "      <th>A783</th>\n",
       "      <th>A784</th>\n",
       "      <th>label</th>\n",
       "    </tr>\n",
       "  </thead>\n",
       "  <tbody>\n",
       "  </tbody>\n",
       "</table>\n",
       "<p>0 rows × 786 columns</p>\n",
       "</div>"
      ],
      "text/plain": [
       "Empty DataFrame\n",
       "Columns: [ident, A001, A002, A003, A004, A005, A006, A007, A008, A009, A010, A011, A012, A013, A014, A015, A016, A017, A018, A019, A020, A021, A022, A023, A024, A025, A026, A027, A028, A029, A030, A031, A032, A033, A034, A035, A036, A037, A038, A039, A040, A041, A042, A043, A044, A045, A046, A047, A048, A049, A050, A051, A052, A053, A054, A055, A056, A057, A058, A059, A060, A061, A062, A063, A064, A065, A066, A067, A068, A069, A070, A071, A072, A073, A074, A075, A076, A077, A078, A079, A080, A081, A082, A083, A084, A085, A086, A087, A088, A089, A090, A091, A092, A093, A094, A095, A096, A097, A098, A099, ...]\n",
       "Index: []\n",
       "\n",
       "[0 rows x 786 columns]"
      ]
     },
     "execution_count": 211,
     "metadata": {},
     "output_type": "execute_result"
    }
   ],
   "source": [
    "iads_names_df"
   ]
  },
  {
   "cell_type": "code",
   "execution_count": 212,
   "metadata": {},
   "outputs": [],
   "source": [
    "# Lecture des données de la base iads\n",
    "iads_train_df = pd.read_csv(\"Bases_IADS/train.csv\",sep=\";\",names=iads_names_df.columns,header=None)\n",
    "iads_test_df  = pd.read_csv(\"Bases_IADS/test.csv\", sep=\";\",names=iads_names_df.columns,header=None)\n",
    "iads_eval_df  = pd.read_csv(\"Bases_IADS/eval.csv\", sep=\";\",names=iads_names_df.columns,header=None)"
   ]
  },
  {
   "cell_type": "code",
   "execution_count": 213,
   "metadata": {},
   "outputs": [
    {
     "data": {
      "text/html": [
       "<div>\n",
       "<style scoped>\n",
       "    .dataframe tbody tr th:only-of-type {\n",
       "        vertical-align: middle;\n",
       "    }\n",
       "\n",
       "    .dataframe tbody tr th {\n",
       "        vertical-align: top;\n",
       "    }\n",
       "\n",
       "    .dataframe thead th {\n",
       "        text-align: right;\n",
       "    }\n",
       "</style>\n",
       "<table border=\"1\" class=\"dataframe\">\n",
       "  <thead>\n",
       "    <tr style=\"text-align: right;\">\n",
       "      <th></th>\n",
       "      <th>ident</th>\n",
       "      <th>A001</th>\n",
       "      <th>A002</th>\n",
       "      <th>A003</th>\n",
       "      <th>A004</th>\n",
       "      <th>A005</th>\n",
       "      <th>A006</th>\n",
       "      <th>A007</th>\n",
       "      <th>A008</th>\n",
       "      <th>A009</th>\n",
       "      <th>...</th>\n",
       "      <th>A776</th>\n",
       "      <th>A777</th>\n",
       "      <th>A778</th>\n",
       "      <th>A779</th>\n",
       "      <th>A780</th>\n",
       "      <th>A781</th>\n",
       "      <th>A782</th>\n",
       "      <th>A783</th>\n",
       "      <th>A784</th>\n",
       "      <th>label</th>\n",
       "    </tr>\n",
       "  </thead>\n",
       "  <tbody>\n",
       "    <tr>\n",
       "      <th>0</th>\n",
       "      <td>10001</td>\n",
       "      <td>0</td>\n",
       "      <td>0</td>\n",
       "      <td>0</td>\n",
       "      <td>0</td>\n",
       "      <td>0</td>\n",
       "      <td>0</td>\n",
       "      <td>0</td>\n",
       "      <td>0</td>\n",
       "      <td>0</td>\n",
       "      <td>...</td>\n",
       "      <td>0</td>\n",
       "      <td>0</td>\n",
       "      <td>0</td>\n",
       "      <td>0</td>\n",
       "      <td>0</td>\n",
       "      <td>0</td>\n",
       "      <td>0</td>\n",
       "      <td>0</td>\n",
       "      <td>0</td>\n",
       "      <td>-1</td>\n",
       "    </tr>\n",
       "    <tr>\n",
       "      <th>1</th>\n",
       "      <td>10002</td>\n",
       "      <td>0</td>\n",
       "      <td>0</td>\n",
       "      <td>0</td>\n",
       "      <td>0</td>\n",
       "      <td>0</td>\n",
       "      <td>0</td>\n",
       "      <td>0</td>\n",
       "      <td>0</td>\n",
       "      <td>0</td>\n",
       "      <td>...</td>\n",
       "      <td>0</td>\n",
       "      <td>0</td>\n",
       "      <td>0</td>\n",
       "      <td>0</td>\n",
       "      <td>0</td>\n",
       "      <td>0</td>\n",
       "      <td>0</td>\n",
       "      <td>0</td>\n",
       "      <td>0</td>\n",
       "      <td>-1</td>\n",
       "    </tr>\n",
       "    <tr>\n",
       "      <th>2</th>\n",
       "      <td>10003</td>\n",
       "      <td>0</td>\n",
       "      <td>0</td>\n",
       "      <td>0</td>\n",
       "      <td>0</td>\n",
       "      <td>0</td>\n",
       "      <td>0</td>\n",
       "      <td>0</td>\n",
       "      <td>0</td>\n",
       "      <td>0</td>\n",
       "      <td>...</td>\n",
       "      <td>0</td>\n",
       "      <td>0</td>\n",
       "      <td>0</td>\n",
       "      <td>0</td>\n",
       "      <td>0</td>\n",
       "      <td>0</td>\n",
       "      <td>0</td>\n",
       "      <td>0</td>\n",
       "      <td>0</td>\n",
       "      <td>-1</td>\n",
       "    </tr>\n",
       "    <tr>\n",
       "      <th>3</th>\n",
       "      <td>10004</td>\n",
       "      <td>0</td>\n",
       "      <td>0</td>\n",
       "      <td>0</td>\n",
       "      <td>0</td>\n",
       "      <td>0</td>\n",
       "      <td>0</td>\n",
       "      <td>0</td>\n",
       "      <td>0</td>\n",
       "      <td>0</td>\n",
       "      <td>...</td>\n",
       "      <td>0</td>\n",
       "      <td>0</td>\n",
       "      <td>0</td>\n",
       "      <td>0</td>\n",
       "      <td>0</td>\n",
       "      <td>0</td>\n",
       "      <td>0</td>\n",
       "      <td>0</td>\n",
       "      <td>0</td>\n",
       "      <td>-1</td>\n",
       "    </tr>\n",
       "    <tr>\n",
       "      <th>4</th>\n",
       "      <td>10005</td>\n",
       "      <td>0</td>\n",
       "      <td>0</td>\n",
       "      <td>0</td>\n",
       "      <td>0</td>\n",
       "      <td>0</td>\n",
       "      <td>0</td>\n",
       "      <td>0</td>\n",
       "      <td>0</td>\n",
       "      <td>0</td>\n",
       "      <td>...</td>\n",
       "      <td>0</td>\n",
       "      <td>0</td>\n",
       "      <td>0</td>\n",
       "      <td>0</td>\n",
       "      <td>0</td>\n",
       "      <td>0</td>\n",
       "      <td>0</td>\n",
       "      <td>0</td>\n",
       "      <td>0</td>\n",
       "      <td>-1</td>\n",
       "    </tr>\n",
       "  </tbody>\n",
       "</table>\n",
       "<p>5 rows × 786 columns</p>\n",
       "</div>"
      ],
      "text/plain": [
       "   ident  A001  A002  A003  A004  A005  A006  A007  A008  A009  ...  A776  \\\n",
       "0  10001     0     0     0     0     0     0     0     0     0  ...     0   \n",
       "1  10002     0     0     0     0     0     0     0     0     0  ...     0   \n",
       "2  10003     0     0     0     0     0     0     0     0     0  ...     0   \n",
       "3  10004     0     0     0     0     0     0     0     0     0  ...     0   \n",
       "4  10005     0     0     0     0     0     0     0     0     0  ...     0   \n",
       "\n",
       "   A777  A778  A779  A780  A781  A782  A783  A784  label  \n",
       "0     0     0     0     0     0     0     0     0     -1  \n",
       "1     0     0     0     0     0     0     0     0     -1  \n",
       "2     0     0     0     0     0     0     0     0     -1  \n",
       "3     0     0     0     0     0     0     0     0     -1  \n",
       "4     0     0     0     0     0     0     0     0     -1  \n",
       "\n",
       "[5 rows x 786 columns]"
      ]
     },
     "execution_count": 213,
     "metadata": {},
     "output_type": "execute_result"
    }
   ],
   "source": [
    "iads_train_df[:5]"
   ]
  },
  {
   "cell_type": "code",
   "execution_count": 214,
   "metadata": {},
   "outputs": [
    {
     "data": {
      "text/html": [
       "<div>\n",
       "<style scoped>\n",
       "    .dataframe tbody tr th:only-of-type {\n",
       "        vertical-align: middle;\n",
       "    }\n",
       "\n",
       "    .dataframe tbody tr th {\n",
       "        vertical-align: top;\n",
       "    }\n",
       "\n",
       "    .dataframe thead th {\n",
       "        text-align: right;\n",
       "    }\n",
       "</style>\n",
       "<table border=\"1\" class=\"dataframe\">\n",
       "  <thead>\n",
       "    <tr style=\"text-align: right;\">\n",
       "      <th></th>\n",
       "      <th>ident</th>\n",
       "      <th>A001</th>\n",
       "      <th>A002</th>\n",
       "      <th>A003</th>\n",
       "      <th>A004</th>\n",
       "      <th>A005</th>\n",
       "      <th>A006</th>\n",
       "      <th>A007</th>\n",
       "      <th>A008</th>\n",
       "      <th>A009</th>\n",
       "      <th>...</th>\n",
       "      <th>A776</th>\n",
       "      <th>A777</th>\n",
       "      <th>A778</th>\n",
       "      <th>A779</th>\n",
       "      <th>A780</th>\n",
       "      <th>A781</th>\n",
       "      <th>A782</th>\n",
       "      <th>A783</th>\n",
       "      <th>A784</th>\n",
       "      <th>label</th>\n",
       "    </tr>\n",
       "  </thead>\n",
       "  <tbody>\n",
       "    <tr>\n",
       "      <th>0</th>\n",
       "      <td>20001</td>\n",
       "      <td>0</td>\n",
       "      <td>0</td>\n",
       "      <td>0</td>\n",
       "      <td>0</td>\n",
       "      <td>0</td>\n",
       "      <td>0</td>\n",
       "      <td>0</td>\n",
       "      <td>0</td>\n",
       "      <td>0</td>\n",
       "      <td>...</td>\n",
       "      <td>0</td>\n",
       "      <td>0</td>\n",
       "      <td>0</td>\n",
       "      <td>0</td>\n",
       "      <td>0</td>\n",
       "      <td>0</td>\n",
       "      <td>0</td>\n",
       "      <td>0</td>\n",
       "      <td>0</td>\n",
       "      <td>-1</td>\n",
       "    </tr>\n",
       "    <tr>\n",
       "      <th>1</th>\n",
       "      <td>20002</td>\n",
       "      <td>0</td>\n",
       "      <td>0</td>\n",
       "      <td>0</td>\n",
       "      <td>0</td>\n",
       "      <td>0</td>\n",
       "      <td>0</td>\n",
       "      <td>0</td>\n",
       "      <td>0</td>\n",
       "      <td>0</td>\n",
       "      <td>...</td>\n",
       "      <td>0</td>\n",
       "      <td>0</td>\n",
       "      <td>0</td>\n",
       "      <td>0</td>\n",
       "      <td>0</td>\n",
       "      <td>0</td>\n",
       "      <td>0</td>\n",
       "      <td>0</td>\n",
       "      <td>0</td>\n",
       "      <td>-1</td>\n",
       "    </tr>\n",
       "    <tr>\n",
       "      <th>2</th>\n",
       "      <td>20003</td>\n",
       "      <td>0</td>\n",
       "      <td>0</td>\n",
       "      <td>0</td>\n",
       "      <td>0</td>\n",
       "      <td>0</td>\n",
       "      <td>0</td>\n",
       "      <td>0</td>\n",
       "      <td>0</td>\n",
       "      <td>0</td>\n",
       "      <td>...</td>\n",
       "      <td>0</td>\n",
       "      <td>0</td>\n",
       "      <td>0</td>\n",
       "      <td>0</td>\n",
       "      <td>0</td>\n",
       "      <td>0</td>\n",
       "      <td>0</td>\n",
       "      <td>0</td>\n",
       "      <td>0</td>\n",
       "      <td>-1</td>\n",
       "    </tr>\n",
       "    <tr>\n",
       "      <th>3</th>\n",
       "      <td>20004</td>\n",
       "      <td>0</td>\n",
       "      <td>0</td>\n",
       "      <td>0</td>\n",
       "      <td>0</td>\n",
       "      <td>0</td>\n",
       "      <td>0</td>\n",
       "      <td>0</td>\n",
       "      <td>0</td>\n",
       "      <td>0</td>\n",
       "      <td>...</td>\n",
       "      <td>0</td>\n",
       "      <td>0</td>\n",
       "      <td>0</td>\n",
       "      <td>0</td>\n",
       "      <td>0</td>\n",
       "      <td>0</td>\n",
       "      <td>0</td>\n",
       "      <td>0</td>\n",
       "      <td>0</td>\n",
       "      <td>-1</td>\n",
       "    </tr>\n",
       "    <tr>\n",
       "      <th>4</th>\n",
       "      <td>20005</td>\n",
       "      <td>0</td>\n",
       "      <td>0</td>\n",
       "      <td>0</td>\n",
       "      <td>0</td>\n",
       "      <td>0</td>\n",
       "      <td>0</td>\n",
       "      <td>0</td>\n",
       "      <td>0</td>\n",
       "      <td>0</td>\n",
       "      <td>...</td>\n",
       "      <td>0</td>\n",
       "      <td>0</td>\n",
       "      <td>0</td>\n",
       "      <td>0</td>\n",
       "      <td>0</td>\n",
       "      <td>0</td>\n",
       "      <td>0</td>\n",
       "      <td>0</td>\n",
       "      <td>0</td>\n",
       "      <td>-1</td>\n",
       "    </tr>\n",
       "  </tbody>\n",
       "</table>\n",
       "<p>5 rows × 786 columns</p>\n",
       "</div>"
      ],
      "text/plain": [
       "   ident  A001  A002  A003  A004  A005  A006  A007  A008  A009  ...  A776  \\\n",
       "0  20001     0     0     0     0     0     0     0     0     0  ...     0   \n",
       "1  20002     0     0     0     0     0     0     0     0     0  ...     0   \n",
       "2  20003     0     0     0     0     0     0     0     0     0  ...     0   \n",
       "3  20004     0     0     0     0     0     0     0     0     0  ...     0   \n",
       "4  20005     0     0     0     0     0     0     0     0     0  ...     0   \n",
       "\n",
       "   A777  A778  A779  A780  A781  A782  A783  A784  label  \n",
       "0     0     0     0     0     0     0     0     0     -1  \n",
       "1     0     0     0     0     0     0     0     0     -1  \n",
       "2     0     0     0     0     0     0     0     0     -1  \n",
       "3     0     0     0     0     0     0     0     0     -1  \n",
       "4     0     0     0     0     0     0     0     0     -1  \n",
       "\n",
       "[5 rows x 786 columns]"
      ]
     },
     "execution_count": 214,
     "metadata": {},
     "output_type": "execute_result"
    }
   ],
   "source": [
    "iads_test_df[:5]"
   ]
  },
  {
   "cell_type": "code",
   "execution_count": 215,
   "metadata": {},
   "outputs": [
    {
     "data": {
      "text/html": [
       "<div>\n",
       "<style scoped>\n",
       "    .dataframe tbody tr th:only-of-type {\n",
       "        vertical-align: middle;\n",
       "    }\n",
       "\n",
       "    .dataframe tbody tr th {\n",
       "        vertical-align: top;\n",
       "    }\n",
       "\n",
       "    .dataframe thead th {\n",
       "        text-align: right;\n",
       "    }\n",
       "</style>\n",
       "<table border=\"1\" class=\"dataframe\">\n",
       "  <thead>\n",
       "    <tr style=\"text-align: right;\">\n",
       "      <th></th>\n",
       "      <th>ident</th>\n",
       "      <th>A001</th>\n",
       "      <th>A002</th>\n",
       "      <th>A003</th>\n",
       "      <th>A004</th>\n",
       "      <th>A005</th>\n",
       "      <th>A006</th>\n",
       "      <th>A007</th>\n",
       "      <th>A008</th>\n",
       "      <th>A009</th>\n",
       "      <th>...</th>\n",
       "      <th>A776</th>\n",
       "      <th>A777</th>\n",
       "      <th>A778</th>\n",
       "      <th>A779</th>\n",
       "      <th>A780</th>\n",
       "      <th>A781</th>\n",
       "      <th>A782</th>\n",
       "      <th>A783</th>\n",
       "      <th>A784</th>\n",
       "      <th>label</th>\n",
       "    </tr>\n",
       "  </thead>\n",
       "  <tbody>\n",
       "    <tr>\n",
       "      <th>0</th>\n",
       "      <td>90001</td>\n",
       "      <td>0</td>\n",
       "      <td>0</td>\n",
       "      <td>0</td>\n",
       "      <td>0</td>\n",
       "      <td>0</td>\n",
       "      <td>0</td>\n",
       "      <td>0</td>\n",
       "      <td>0</td>\n",
       "      <td>0</td>\n",
       "      <td>...</td>\n",
       "      <td>0</td>\n",
       "      <td>0</td>\n",
       "      <td>0</td>\n",
       "      <td>0</td>\n",
       "      <td>0</td>\n",
       "      <td>0</td>\n",
       "      <td>0</td>\n",
       "      <td>0</td>\n",
       "      <td>0</td>\n",
       "      <td>0</td>\n",
       "    </tr>\n",
       "    <tr>\n",
       "      <th>1</th>\n",
       "      <td>90002</td>\n",
       "      <td>0</td>\n",
       "      <td>0</td>\n",
       "      <td>0</td>\n",
       "      <td>0</td>\n",
       "      <td>0</td>\n",
       "      <td>0</td>\n",
       "      <td>0</td>\n",
       "      <td>0</td>\n",
       "      <td>0</td>\n",
       "      <td>...</td>\n",
       "      <td>0</td>\n",
       "      <td>0</td>\n",
       "      <td>0</td>\n",
       "      <td>0</td>\n",
       "      <td>0</td>\n",
       "      <td>0</td>\n",
       "      <td>0</td>\n",
       "      <td>0</td>\n",
       "      <td>0</td>\n",
       "      <td>0</td>\n",
       "    </tr>\n",
       "    <tr>\n",
       "      <th>2</th>\n",
       "      <td>90003</td>\n",
       "      <td>0</td>\n",
       "      <td>0</td>\n",
       "      <td>0</td>\n",
       "      <td>0</td>\n",
       "      <td>0</td>\n",
       "      <td>0</td>\n",
       "      <td>0</td>\n",
       "      <td>0</td>\n",
       "      <td>0</td>\n",
       "      <td>...</td>\n",
       "      <td>0</td>\n",
       "      <td>0</td>\n",
       "      <td>0</td>\n",
       "      <td>0</td>\n",
       "      <td>0</td>\n",
       "      <td>0</td>\n",
       "      <td>0</td>\n",
       "      <td>0</td>\n",
       "      <td>0</td>\n",
       "      <td>0</td>\n",
       "    </tr>\n",
       "    <tr>\n",
       "      <th>3</th>\n",
       "      <td>90004</td>\n",
       "      <td>0</td>\n",
       "      <td>0</td>\n",
       "      <td>0</td>\n",
       "      <td>0</td>\n",
       "      <td>0</td>\n",
       "      <td>0</td>\n",
       "      <td>0</td>\n",
       "      <td>0</td>\n",
       "      <td>0</td>\n",
       "      <td>...</td>\n",
       "      <td>0</td>\n",
       "      <td>0</td>\n",
       "      <td>0</td>\n",
       "      <td>0</td>\n",
       "      <td>0</td>\n",
       "      <td>0</td>\n",
       "      <td>0</td>\n",
       "      <td>0</td>\n",
       "      <td>0</td>\n",
       "      <td>0</td>\n",
       "    </tr>\n",
       "    <tr>\n",
       "      <th>4</th>\n",
       "      <td>90005</td>\n",
       "      <td>0</td>\n",
       "      <td>0</td>\n",
       "      <td>0</td>\n",
       "      <td>0</td>\n",
       "      <td>0</td>\n",
       "      <td>0</td>\n",
       "      <td>0</td>\n",
       "      <td>0</td>\n",
       "      <td>0</td>\n",
       "      <td>...</td>\n",
       "      <td>0</td>\n",
       "      <td>0</td>\n",
       "      <td>0</td>\n",
       "      <td>0</td>\n",
       "      <td>0</td>\n",
       "      <td>0</td>\n",
       "      <td>0</td>\n",
       "      <td>0</td>\n",
       "      <td>0</td>\n",
       "      <td>0</td>\n",
       "    </tr>\n",
       "  </tbody>\n",
       "</table>\n",
       "<p>5 rows × 786 columns</p>\n",
       "</div>"
      ],
      "text/plain": [
       "   ident  A001  A002  A003  A004  A005  A006  A007  A008  A009  ...  A776  \\\n",
       "0  90001     0     0     0     0     0     0     0     0     0  ...     0   \n",
       "1  90002     0     0     0     0     0     0     0     0     0  ...     0   \n",
       "2  90003     0     0     0     0     0     0     0     0     0  ...     0   \n",
       "3  90004     0     0     0     0     0     0     0     0     0  ...     0   \n",
       "4  90005     0     0     0     0     0     0     0     0     0  ...     0   \n",
       "\n",
       "   A777  A778  A779  A780  A781  A782  A783  A784  label  \n",
       "0     0     0     0     0     0     0     0     0      0  \n",
       "1     0     0     0     0     0     0     0     0      0  \n",
       "2     0     0     0     0     0     0     0     0      0  \n",
       "3     0     0     0     0     0     0     0     0      0  \n",
       "4     0     0     0     0     0     0     0     0      0  \n",
       "\n",
       "[5 rows x 786 columns]"
      ]
     },
     "execution_count": 215,
     "metadata": {},
     "output_type": "execute_result"
    }
   ],
   "source": [
    "iads_eval_df[:5]"
   ]
  },
  {
   "cell_type": "code",
   "execution_count": 216,
   "metadata": {},
   "outputs": [],
   "source": [
    "iads_noms = [nom for nom in iads_names_df.columns if nom != 'ident' and nom != 'label']\n",
    "\n",
    "# iads_noms"
   ]
  },
  {
   "cell_type": "code",
   "execution_count": 217,
   "metadata": {},
   "outputs": [
    {
     "data": {
      "text/plain": [
       "array([[0, 0, 0, ..., 0, 0, 0],\n",
       "       [0, 0, 0, ..., 0, 0, 0],\n",
       "       [0, 0, 0, ..., 0, 0, 0],\n",
       "       [0, 0, 0, ..., 0, 0, 0],\n",
       "       [0, 0, 0, ..., 0, 0, 0]])"
      ]
     },
     "execution_count": 217,
     "metadata": {},
     "output_type": "execute_result"
    }
   ],
   "source": [
    "train_desc,train_label = np.array(iads_train_df[iads_noms]), np.array(iads_train_df['label'])\n",
    "\n",
    "train_desc[:5]"
   ]
  },
  {
   "cell_type": "code",
   "execution_count": 218,
   "metadata": {},
   "outputs": [
    {
     "data": {
      "text/plain": [
       "array([-1, -1, -1, -1, -1])"
      ]
     },
     "execution_count": 218,
     "metadata": {},
     "output_type": "execute_result"
    }
   ],
   "source": [
    "train_label[:5]"
   ]
  },
  {
   "cell_type": "code",
   "execution_count": 219,
   "metadata": {},
   "outputs": [
    {
     "name": "stdout",
     "output_type": "stream",
     "text": [
      "(1000, 784) (1000,)\n"
     ]
    }
   ],
   "source": [
    "test_desc, test_label = np.array(iads_test_df[iads_noms]), np.array(iads_test_df['label'])\n",
    "\n",
    "print(test_desc.shape,test_label.shape)"
   ]
  },
  {
   "cell_type": "code",
   "execution_count": 220,
   "metadata": {},
   "outputs": [
    {
     "name": "stdout",
     "output_type": "stream",
     "text": [
      "(1000, 784) (1000,)\n"
     ]
    }
   ],
   "source": [
    "eval_desc, eval_label, eval_ident = np.array(iads_eval_df[iads_noms]), np.array(iads_eval_df['label']), np.array(iads_eval_df['ident'])\n",
    "\n",
    "print(eval_desc.shape,eval_label.shape)"
   ]
  },
  {
   "cell_type": "code",
   "execution_count": 221,
   "metadata": {},
   "outputs": [
    {
     "data": {
      "text/plain": [
       "array([90001, 90002, 90003, 90004, 90005])"
      ]
     },
     "execution_count": 221,
     "metadata": {},
     "output_type": "execute_result"
    }
   ],
   "source": [
    "eval_ident[:5]"
   ]
  },
  {
   "cell_type": "markdown",
   "metadata": {},
   "source": [
    "## Test sur les différents classifieurs"
   ]
  },
  {
   "cell_type": "code",
   "execution_count": 244,
   "metadata": {},
   "outputs": [],
   "source": [
    "# Juste un changement de notations non obligé, juste une habitude\n",
    "Xapp,Yapp,Xtest,Ytest = train_desc,train_label,test_desc,test_label"
   ]
  },
  {
   "cell_type": "markdown",
   "metadata": {},
   "source": [
    "### Classifieur KNN"
   ]
  },
  {
   "cell_type": "markdown",
   "metadata": {},
   "source": [
    "Pour des valeurs de k entre 1 et 15, j'apprends sur les données train et puis j'évalue le model avec les données de test"
   ]
  },
  {
   "cell_type": "code",
   "execution_count": 141,
   "metadata": {},
   "outputs": [
    {
     "name": "stdout",
     "output_type": "stream",
     "text": [
      "  k= 1 precision: 0.935\n",
      "  k= 2 precision: 0.928\n",
      "  k= 3 precision: 0.943\n",
      "  k= 4 precision: 0.935\n",
      "  k= 5 precision: 0.946\n",
      "  k= 6 precision: 0.941\n",
      "  k= 7 precision: 0.945\n",
      "  k= 8 precision: 0.944\n",
      "  k= 9 precision: 0.944\n",
      "  k= 10 precision: 0.945\n",
      "  k= 11 precision: 0.942\n",
      "  k= 12 precision: 0.941\n",
      "  k= 13 precision: 0.943\n",
      "  k= 14 precision: 0.941\n",
      "  k= 15 precision: 0.942\n"
     ]
    }
   ],
   "source": [
    "for k in range(1,15+1):\n",
    "  cl_knn = ClassifierKNN(Xapp.shape[1], k)\n",
    "  cl_knn.train(Xapp, Yapp)\n",
    "\n",
    "  print('  k=',k,'precision:',cl_knn.accuracy(Xtest, Ytest))"
   ]
  },
  {
   "cell_type": "markdown",
   "metadata": {},
   "source": [
    "Pour le classifieur k plus proches voisins, nous avons le meilleur taux de performance sur les données de test est obtenu avec k=5 pour 94.6% de bonne prédiction."
   ]
  },
  {
   "cell_type": "markdown",
   "metadata": {},
   "source": [
    "#### validation croisée knn avec k=5"
   ]
  },
  {
   "cell_type": "code",
   "execution_count": 142,
   "metadata": {},
   "outputs": [
    {
     "name": "stdout",
     "output_type": "stream",
     "text": [
      "Avec le classifier knn, k=5\n",
      "  Perf obtenues :  (0.9469999999999998, 0.0006209999999999988)\n",
      "Résultat en 2.837e-06 secondes en moyenne\n"
     ]
    }
   ],
   "source": [
    "index = np.random.permutation(len(Yapp))\n",
    "Xm = Xapp[index]\n",
    "Ym = Yapp[index]\n",
    "niter = 10\n",
    "perf = []\n",
    "temps = []\n",
    "\n",
    "# ######################## Perceptron\n",
    "for i in range(niter):\n",
    "  Xa,Ya,Xt,Yt = crossval(Xm, Ym, niter, i)\n",
    "  cl_knn = ClassifierKNN(Xa.shape[1], 5)\n",
    "  cl_knn.train(Xa, Ya)\n",
    "\n",
    "  tic= time.time()\n",
    "  acc = cl_knn.accuracy(Xt, Yt)\n",
    "  toc= time.time()\n",
    "  \n",
    "  temps.append(toc-tic)\n",
    "  perf.append(acc)\n",
    "# ######\n",
    "print(\"Avec le classifier knn, k=5\")\n",
    "print(\"  Perf obtenues : \",analyse_perfs(perf))\n",
    "print(f\"Résultat en {(np.mean(temps)):.4} secondes en moyenne\")"
   ]
  },
  {
   "cell_type": "markdown",
   "metadata": {},
   "source": [
    "### Classifieur Perceptron"
   ]
  },
  {
   "cell_type": "code",
   "execution_count": 143,
   "metadata": {},
   "outputs": [
    {
     "name": "stdout",
     "output_type": "stream",
     "text": [
      "  precision: 0.865 en 0.5693790912628174 secondes\n"
     ]
    }
   ],
   "source": [
    "perc = ClassifierPerceptron(Xapp.shape[1], 1e-5)\n",
    "tic= time.time()\n",
    "perc.train(Xapp, Yapp)\n",
    "toc= time.time()\n",
    "\n",
    "print('  precision:',perc.accuracy(Xtest, Ytest),'en',toc-tic,'secondes')"
   ]
  },
  {
   "cell_type": "markdown",
   "metadata": {},
   "source": [
    "Le taux de performance de 86.9% pour des learning_rate entre [1e-5,1e-2].\n",
    "Le classifieur perceptron est moins performant que celui des k plus proches voisins."
   ]
  },
  {
   "cell_type": "markdown",
   "metadata": {},
   "source": [
    "#### validation croisée avec perceptron"
   ]
  },
  {
   "cell_type": "code",
   "execution_count": 144,
   "metadata": {},
   "outputs": [
    {
     "name": "stdout",
     "output_type": "stream",
     "text": [
      "Avec le classifier Perceptron\n",
      "  Perf obtenues :  (0.8800000000000001, 0.0016600000000000013)\n",
      "Résultat en 0.2619 secondes en moyenne\n"
     ]
    }
   ],
   "source": [
    "index = np.random.permutation(len(Yapp))\n",
    "Xm = Xapp[index]\n",
    "Ym = Yapp[index]\n",
    "niter = 10\n",
    "perf = []\n",
    "temps = []\n",
    "\n",
    "# ######################## Perceptron\n",
    "for i in range(niter):\n",
    "  Xa,Ya,Xt,Yt = crossval(Xm, Ym, niter, i)\n",
    "  perc = ClassifierPerceptron(Xapp.shape[1], 1e-5)\n",
    "  tic= time.time()\n",
    "  perc.train(Xa, Ya)\n",
    "  toc= time.time()\n",
    "\n",
    "  temps.append(toc-tic)\n",
    "  perf.append(perc.accuracy(Xt, Yt))\n",
    "# ######\n",
    "print(\"Avec le classifier Perceptron\")\n",
    "print(\"  Perf obtenues : \",analyse_perfs(perf))\n",
    "print(f\"Résultat en {(np.mean(temps)):.4} secondes en moyenne\")"
   ]
  },
  {
   "cell_type": "markdown",
   "metadata": {},
   "source": [
    "### Classifieur Perceptron biais"
   ]
  },
  {
   "cell_type": "code",
   "execution_count": 145,
   "metadata": {},
   "outputs": [
    {
     "name": "stdout",
     "output_type": "stream",
     "text": [
      "  precision: 0.873 en 0.37874293327331543 secondes\n"
     ]
    }
   ],
   "source": [
    "perc = ClassifierPerceptronBiais(Xapp.shape[1], 1e-5)\n",
    "tic= time.time()\n",
    "perc.train(Xapp, Yapp)\n",
    "toc= time.time()\n",
    "\n",
    "print('  precision:',perc.accuracy(Xtest, Ytest),'en',toc-tic,'secondes')"
   ]
  },
  {
   "cell_type": "markdown",
   "metadata": {},
   "source": [
    "Performance pareille que celle du perceptron classique"
   ]
  },
  {
   "cell_type": "markdown",
   "metadata": {},
   "source": [
    "#### Validation croisée avec perceptron biais"
   ]
  },
  {
   "cell_type": "code",
   "execution_count": 146,
   "metadata": {},
   "outputs": [
    {
     "name": "stdout",
     "output_type": "stream",
     "text": [
      "Avec le classifier Perceptron biais\n",
      "  Perf obtenues :  (0.8910000000000002, 0.0011490000000000007)\n",
      "Résultat en 0.2458 secondes en moyenne\n"
     ]
    }
   ],
   "source": [
    "index = np.random.permutation(len(Yapp))\n",
    "Xm = Xapp[index]\n",
    "Ym = Yapp[index]\n",
    "niter = 10\n",
    "perf = []\n",
    "temps = []\n",
    "\n",
    "# ######################## Perceptron\n",
    "for i in range(niter):\n",
    "  Xa,Ya,Xt,Yt = crossval(Xm, Ym, niter, i)\n",
    "  perc = ClassifierPerceptronBiais(Xapp.shape[1], 1e-5)\n",
    "  tic= time.time()\n",
    "  perc.train(Xa, Ya)\n",
    "  toc= time.time()\n",
    "\n",
    "  temps.append(toc-tic)\n",
    "  perf.append(perc.accuracy(Xt, Yt))\n",
    "# ######\n",
    "print(\"Avec le classifier Perceptron biais\")\n",
    "print(\"  Perf obtenues : \",analyse_perfs(perf))\n",
    "print(f\"Résultat en {(np.mean(temps)):.4} secondes en moyenne\")"
   ]
  },
  {
   "cell_type": "markdown",
   "metadata": {},
   "source": [
    "### Classifieur Perceptron kernel bias"
   ]
  },
  {
   "cell_type": "code",
   "execution_count": 149,
   "metadata": {},
   "outputs": [],
   "source": [
    "noyau = KernelBias(Xapp.shape[1],Xapp.shape[1]+1)"
   ]
  },
  {
   "cell_type": "code",
   "execution_count": 150,
   "metadata": {},
   "outputs": [
    {
     "name": "stdout",
     "output_type": "stream",
     "text": [
      "  precision: 0.863 en 0.5064771175384521 secondes\n"
     ]
    }
   ],
   "source": [
    "perc = ClassifierPerceptronKernel(Xapp.shape[1], 1e-5, noyau)\n",
    "tic= time.time()\n",
    "perc.train(Xapp, Yapp)\n",
    "toc= time.time()\n",
    "\n",
    "print('  precision:',perc.accuracy(Xtest, Ytest),'en',toc-tic,'secondes')"
   ]
  },
  {
   "cell_type": "markdown",
   "metadata": {},
   "source": [
    "#### Validation croisée avec kernel bias"
   ]
  },
  {
   "cell_type": "code",
   "execution_count": 151,
   "metadata": {},
   "outputs": [
    {
     "name": "stdout",
     "output_type": "stream",
     "text": [
      "Avec le classifier Perceptron biais\n",
      "  Perf obtenues :  (0.8889999999999999, 0.0010090000000000006)\n",
      "Résultat en 0.2592 secondes en moyenne\n"
     ]
    }
   ],
   "source": [
    "index = np.random.permutation(len(Yapp))\n",
    "Xm = Xapp[index]\n",
    "Ym = Yapp[index]\n",
    "niter = 10\n",
    "perf = []\n",
    "temps = []\n",
    "\n",
    "# ######################## Perceptron\n",
    "for i in range(niter):\n",
    "  Xa,Ya,Xt,Yt = crossval(Xm, Ym, niter, i)\n",
    "  perc = ClassifierPerceptronKernel(Xapp.shape[1], 1e-5, noyau)\n",
    "  tic= time.time()\n",
    "  perc.train(Xa, Ya)\n",
    "  toc= time.time()\n",
    "\n",
    "  temps.append(toc-tic)\n",
    "  perf.append(perc.accuracy(Xt, Yt))\n",
    "# ######\n",
    "print(\"Avec le classifier Perceptron biais\")\n",
    "print(\"  Perf obtenues : \",analyse_perfs(perf))\n",
    "print(f\"Résultat en {(np.mean(temps)):.4} secondes en moyenne\")"
   ]
  },
  {
   "cell_type": "markdown",
   "metadata": {},
   "source": [
    "### Classifieur Perceptron kernel Poly"
   ]
  },
  {
   "cell_type": "code",
   "execution_count": 245,
   "metadata": {},
   "outputs": [],
   "source": [
    "# Seule la premiere dimension intéressante\n",
    "noyau_poly = KernelPoly(Xapp.shape[1],Xapp.shape[1]+1)"
   ]
  },
  {
   "cell_type": "code",
   "execution_count": null,
   "metadata": {},
   "outputs": [],
   "source": [
    "# L'execusion prend 10 min sur ma machine\n",
    "\n",
    "perc_poly = ClassifierPerceptronKernel(Xapp.shape[1], 1e-5, noyau_poly)\n",
    "tic= time.time()\n",
    "perc_poly.train(Xapp, Yapp)\n",
    "toc= time.time()\n",
    "\n",
    "print('  precision:',perc_poly.accuracy(Xtest, Ytest),'en',toc-tic,'secondes')"
   ]
  },
  {
   "cell_type": "code",
   "execution_count": 264,
   "metadata": {},
   "outputs": [],
   "source": [
    "# L'execusion prend 10 min sur ma machine\n",
    "\n",
    "perc_poly = ClassifierPerceptronKernel(Xapp.shape[1], 1e-5, noyau_poly)\n",
    "tic= time.time()\n",
    "perc_poly.train(Xapp, Yapp)\n",
    "toc= time.time()\n",
    "\n",
    "print('  precision:',perc_poly.accuracy(Xtest, Ytest),'en',toc-tic,'secondes')"
   ]
  },
  {
   "cell_type": "markdown",
   "metadata": {},
   "source": [
    "Nous avons une performance légèrement mieux qu'avec le classifieur knn, 95.2% pour le perceptron poly contre 94.69 pour le knn avec k=5"
   ]
  },
  {
   "cell_type": "markdown",
   "metadata": {},
   "source": [
    "#### Validation croisée avec kernel poly"
   ]
  },
  {
   "cell_type": "code",
   "execution_count": 258,
   "metadata": {},
   "outputs": [
    {
     "name": "stdout",
     "output_type": "stream",
     "text": [
      "Avec le classifier Perceptron kernel poly\n",
      "  Perf obtenues :  (0.958, 0.0005159999999999992)\n",
      "Résultat en 10.91 secondes en moyenne\n"
     ]
    }
   ],
   "source": [
    "index = np.random.permutation(len(Yapp))\n",
    "Xm = Xapp[index]\n",
    "Ym = Yapp[index]\n",
    "niter = 10\n",
    "perf = []\n",
    "temps = []\n",
    "\n",
    "# ######################## Perceptron\n",
    "for i in range(niter):\n",
    "  Xa,Ya,Xt,Yt = crossval(Xm, Ym, niter, i)\n",
    "  perc = ClassifierPerceptronKernel(Xapp.shape[1], 1e-5, noyau)\n",
    "  tic= time.time()\n",
    "  perc.train(Xa, Ya)\n",
    "  toc= time.time()\n",
    "\n",
    "  temps.append(toc-tic)\n",
    "  perf.append(perc.accuracy(Xt, Yt))\n",
    "# ######\n",
    "print(\"Avec le classifier Perceptron kernel poly\")\n",
    "print(\"  Perf obtenues : \",analyse_perfs(perf))\n",
    "print(f\"Résultat en {(np.mean(temps)):.4} secondes en moyenne\")"
   ]
  },
  {
   "cell_type": "markdown",
   "metadata": {},
   "source": [
    "### Choix du classifieur des k plus proche voisins avec k=5"
   ]
  },
  {
   "cell_type": "code",
   "execution_count": 256,
   "metadata": {},
   "outputs": [],
   "source": [
    "cl_knn = ClassifierKNN(Xapp.shape[1],5)\n",
    "cl_knn.train(Xapp,Yapp)\n",
    "\n",
    "for i in range(0,eval_desc.shape[0]):\n",
    "  eval_label[i] = cl_knn.predict(eval_desc[i])  # prediction de chaque xi"
   ]
  },
  {
   "cell_type": "code",
   "execution_count": 257,
   "metadata": {},
   "outputs": [],
   "source": [
    "eval_df = pd.DataFrame({'ident':eval_ident,'label':eval_label})\n",
    "eval_df[:5]\n",
    "\n",
    "# Fichier csv à rendre\n",
    "eval_df.to_csv('Bases_IADS/eval-Mbaye-knn5.csv',sep=\";\",index=False,header=False)"
   ]
  },
  {
   "cell_type": "markdown",
   "metadata": {},
   "source": [
    "Le classifieur kernel poly a une performance légèrement supérieur à celle du classifieur knn"
   ]
  },
  {
   "cell_type": "code",
   "execution_count": 252,
   "metadata": {},
   "outputs": [],
   "source": [
    "for i in range(0,eval_desc.shape[0]):\n",
    "  eval_label[i] = perc_poly.predict(eval_desc[i])  # prediction de chaque xi\n",
    "\n",
    "eval_df = pd.DataFrame({'ident':eval_ident,'label':eval_label})\n",
    "eval_df[:5]\n",
    "\n",
    "# Fichier csv à rendre\n",
    "eval_df.to_csv('Bases_IADS/eval-Mbaye-poly.csv',sep=\";\",index=False,header=False)"
   ]
  },
  {
   "cell_type": "markdown",
   "metadata": {},
   "source": [
    "### Réduction de dimensionnalités"
   ]
  },
  {
   "cell_type": "markdown",
   "metadata": {},
   "source": [
    "La réduction de dimension nous fait perdre de l'information, et ainsi les performance baissent."
   ]
  },
  {
   "cell_type": "code",
   "execution_count": 236,
   "metadata": {},
   "outputs": [
    {
     "data": {
      "text/plain": [
       "<matplotlib.legend.Legend at 0x11726d070>"
      ]
     },
     "execution_count": 236,
     "metadata": {},
     "output_type": "execute_result"
    },
    {
     "data": {
      "image/png": "[encoded data removed]",
      "text/plain": [
       "<Figure size 432x288 with 1 Axes>"
      ]
     },
     "metadata": {
      "needs_background": "light"
     },
     "output_type": "display_data"
    }
   ],
   "source": [
    "import matplotlib.pyplot as plt\n",
    "\n",
    "lam, vp = np.linalg.eig(Xapp.T@Xapp)\n",
    "\n",
    "lam_tries_arg = np.argsort(lam)\n",
    "lam_2_max = np.sort(lam_tries_arg[-2:])\n",
    "vp_2 = vp[:,lam_2_max]\n",
    "\n",
    "Xapp_2D = Xapp@vp_2\n",
    "\n",
    "plt.figure()\n",
    "# for c in range(0,10):\n",
    "#   Xc = Xapp_2D[Yapp==c]\n",
    "#   plt.scatter(Xc[:,0],Xc[:,1])\n",
    "\n",
    "Xc = Xapp_2D[Yapp==-1]\n",
    "plt.scatter(Xc[:,0],Xc[:,1])\n",
    "Xc = Xapp_2D[Yapp==1]\n",
    "plt.scatter(Xc[:,0],Xc[:,1])\n",
    "\n",
    "plt.legend([-1,1])"
   ]
  },
  {
   "cell_type": "markdown",
   "metadata": {},
   "source": [
    "## Importation des données de la Base IADS multiclasses"
   ]
  },
  {
   "cell_type": "code",
   "execution_count": 155,
   "metadata": {},
   "outputs": [],
   "source": [
    "iads_names_multi_df = pd.read_csv('Bases_IADS_multiclasses/names_multi.csv',sep=\";\")"
   ]
  },
  {
   "cell_type": "code",
   "execution_count": 156,
   "metadata": {},
   "outputs": [
    {
     "data": {
      "text/html": [
       "<div>\n",
       "<style scoped>\n",
       "    .dataframe tbody tr th:only-of-type {\n",
       "        vertical-align: middle;\n",
       "    }\n",
       "\n",
       "    .dataframe tbody tr th {\n",
       "        vertical-align: top;\n",
       "    }\n",
       "\n",
       "    .dataframe thead th {\n",
       "        text-align: right;\n",
       "    }\n",
       "</style>\n",
       "<table border=\"1\" class=\"dataframe\">\n",
       "  <thead>\n",
       "    <tr style=\"text-align: right;\">\n",
       "      <th></th>\n",
       "      <th>ident</th>\n",
       "      <th>A001</th>\n",
       "      <th>A002</th>\n",
       "      <th>A003</th>\n",
       "      <th>A004</th>\n",
       "      <th>A005</th>\n",
       "      <th>A006</th>\n",
       "      <th>A007</th>\n",
       "      <th>A008</th>\n",
       "      <th>A009</th>\n",
       "      <th>...</th>\n",
       "      <th>A776</th>\n",
       "      <th>A777</th>\n",
       "      <th>A778</th>\n",
       "      <th>A779</th>\n",
       "      <th>A780</th>\n",
       "      <th>A781</th>\n",
       "      <th>A782</th>\n",
       "      <th>A783</th>\n",
       "      <th>A784</th>\n",
       "      <th>label</th>\n",
       "    </tr>\n",
       "  </thead>\n",
       "  <tbody>\n",
       "  </tbody>\n",
       "</table>\n",
       "<p>0 rows × 786 columns</p>\n",
       "</div>"
      ],
      "text/plain": [
       "Empty DataFrame\n",
       "Columns: [ident, A001, A002, A003, A004, A005, A006, A007, A008, A009, A010, A011, A012, A013, A014, A015, A016, A017, A018, A019, A020, A021, A022, A023, A024, A025, A026, A027, A028, A029, A030, A031, A032, A033, A034, A035, A036, A037, A038, A039, A040, A041, A042, A043, A044, A045, A046, A047, A048, A049, A050, A051, A052, A053, A054, A055, A056, A057, A058, A059, A060, A061, A062, A063, A064, A065, A066, A067, A068, A069, A070, A071, A072, A073, A074, A075, A076, A077, A078, A079, A080, A081, A082, A083, A084, A085, A086, A087, A088, A089, A090, A091, A092, A093, A094, A095, A096, A097, A098, A099, ...]\n",
       "Index: []\n",
       "\n",
       "[0 rows x 786 columns]"
      ]
     },
     "execution_count": 156,
     "metadata": {},
     "output_type": "execute_result"
    }
   ],
   "source": [
    "iads_names_multi_df"
   ]
  },
  {
   "cell_type": "code",
   "execution_count": 157,
   "metadata": {},
   "outputs": [],
   "source": [
    "iads_train_multi_df = pd.read_csv(\"Bases_IADS_multiclasses/train_multi.csv\",sep=\";\",names=iads_names_multi_df.columns,header=None)\n",
    "iads_test_multi_df  = pd.read_csv(\"Bases_IADS_multiclasses/test_multi.csv\", sep=\";\",names=iads_names_multi_df.columns,header=None)\n",
    "iads_eval_multi_df  = pd.read_csv(\"Bases_IADS_multiclasses/eval_multi.csv\", sep=\";\",names=iads_names_multi_df.columns,header=None)"
   ]
  },
  {
   "cell_type": "code",
   "execution_count": 158,
   "metadata": {},
   "outputs": [],
   "source": [
    "iads_multi_noms = [nom for nom in iads_names_multi_df.columns if nom != 'ident' and nom != 'label']"
   ]
  },
  {
   "cell_type": "code",
   "execution_count": 159,
   "metadata": {},
   "outputs": [
    {
     "data": {
      "text/html": [
       "<div>\n",
       "<style scoped>\n",
       "    .dataframe tbody tr th:only-of-type {\n",
       "        vertical-align: middle;\n",
       "    }\n",
       "\n",
       "    .dataframe tbody tr th {\n",
       "        vertical-align: top;\n",
       "    }\n",
       "\n",
       "    .dataframe thead th {\n",
       "        text-align: right;\n",
       "    }\n",
       "</style>\n",
       "<table border=\"1\" class=\"dataframe\">\n",
       "  <thead>\n",
       "    <tr style=\"text-align: right;\">\n",
       "      <th></th>\n",
       "      <th>ident</th>\n",
       "      <th>A001</th>\n",
       "      <th>A002</th>\n",
       "      <th>A003</th>\n",
       "      <th>A004</th>\n",
       "      <th>A005</th>\n",
       "      <th>A006</th>\n",
       "      <th>A007</th>\n",
       "      <th>A008</th>\n",
       "      <th>A009</th>\n",
       "      <th>...</th>\n",
       "      <th>A776</th>\n",
       "      <th>A777</th>\n",
       "      <th>A778</th>\n",
       "      <th>A779</th>\n",
       "      <th>A780</th>\n",
       "      <th>A781</th>\n",
       "      <th>A782</th>\n",
       "      <th>A783</th>\n",
       "      <th>A784</th>\n",
       "      <th>label</th>\n",
       "    </tr>\n",
       "  </thead>\n",
       "  <tbody>\n",
       "    <tr>\n",
       "      <th>0</th>\n",
       "      <td>10001</td>\n",
       "      <td>0</td>\n",
       "      <td>0</td>\n",
       "      <td>0</td>\n",
       "      <td>0</td>\n",
       "      <td>0</td>\n",
       "      <td>0</td>\n",
       "      <td>0</td>\n",
       "      <td>0</td>\n",
       "      <td>0</td>\n",
       "      <td>...</td>\n",
       "      <td>0</td>\n",
       "      <td>0</td>\n",
       "      <td>0</td>\n",
       "      <td>0</td>\n",
       "      <td>0</td>\n",
       "      <td>0</td>\n",
       "      <td>0</td>\n",
       "      <td>0</td>\n",
       "      <td>0</td>\n",
       "      <td>0</td>\n",
       "    </tr>\n",
       "    <tr>\n",
       "      <th>1</th>\n",
       "      <td>10002</td>\n",
       "      <td>0</td>\n",
       "      <td>0</td>\n",
       "      <td>0</td>\n",
       "      <td>0</td>\n",
       "      <td>0</td>\n",
       "      <td>0</td>\n",
       "      <td>0</td>\n",
       "      <td>0</td>\n",
       "      <td>0</td>\n",
       "      <td>...</td>\n",
       "      <td>0</td>\n",
       "      <td>0</td>\n",
       "      <td>0</td>\n",
       "      <td>0</td>\n",
       "      <td>0</td>\n",
       "      <td>0</td>\n",
       "      <td>0</td>\n",
       "      <td>0</td>\n",
       "      <td>0</td>\n",
       "      <td>0</td>\n",
       "    </tr>\n",
       "    <tr>\n",
       "      <th>2</th>\n",
       "      <td>10003</td>\n",
       "      <td>0</td>\n",
       "      <td>0</td>\n",
       "      <td>0</td>\n",
       "      <td>0</td>\n",
       "      <td>0</td>\n",
       "      <td>0</td>\n",
       "      <td>0</td>\n",
       "      <td>0</td>\n",
       "      <td>0</td>\n",
       "      <td>...</td>\n",
       "      <td>0</td>\n",
       "      <td>0</td>\n",
       "      <td>0</td>\n",
       "      <td>0</td>\n",
       "      <td>0</td>\n",
       "      <td>0</td>\n",
       "      <td>0</td>\n",
       "      <td>0</td>\n",
       "      <td>0</td>\n",
       "      <td>0</td>\n",
       "    </tr>\n",
       "    <tr>\n",
       "      <th>3</th>\n",
       "      <td>10004</td>\n",
       "      <td>0</td>\n",
       "      <td>0</td>\n",
       "      <td>0</td>\n",
       "      <td>0</td>\n",
       "      <td>0</td>\n",
       "      <td>0</td>\n",
       "      <td>0</td>\n",
       "      <td>0</td>\n",
       "      <td>0</td>\n",
       "      <td>...</td>\n",
       "      <td>0</td>\n",
       "      <td>0</td>\n",
       "      <td>0</td>\n",
       "      <td>0</td>\n",
       "      <td>0</td>\n",
       "      <td>0</td>\n",
       "      <td>0</td>\n",
       "      <td>0</td>\n",
       "      <td>0</td>\n",
       "      <td>0</td>\n",
       "    </tr>\n",
       "    <tr>\n",
       "      <th>4</th>\n",
       "      <td>10005</td>\n",
       "      <td>0</td>\n",
       "      <td>0</td>\n",
       "      <td>0</td>\n",
       "      <td>0</td>\n",
       "      <td>0</td>\n",
       "      <td>0</td>\n",
       "      <td>0</td>\n",
       "      <td>0</td>\n",
       "      <td>0</td>\n",
       "      <td>...</td>\n",
       "      <td>0</td>\n",
       "      <td>0</td>\n",
       "      <td>0</td>\n",
       "      <td>0</td>\n",
       "      <td>0</td>\n",
       "      <td>0</td>\n",
       "      <td>0</td>\n",
       "      <td>0</td>\n",
       "      <td>0</td>\n",
       "      <td>0</td>\n",
       "    </tr>\n",
       "  </tbody>\n",
       "</table>\n",
       "<p>5 rows × 786 columns</p>\n",
       "</div>"
      ],
      "text/plain": [
       "   ident  A001  A002  A003  A004  A005  A006  A007  A008  A009  ...  A776  \\\n",
       "0  10001     0     0     0     0     0     0     0     0     0  ...     0   \n",
       "1  10002     0     0     0     0     0     0     0     0     0  ...     0   \n",
       "2  10003     0     0     0     0     0     0     0     0     0  ...     0   \n",
       "3  10004     0     0     0     0     0     0     0     0     0  ...     0   \n",
       "4  10005     0     0     0     0     0     0     0     0     0  ...     0   \n",
       "\n",
       "   A777  A778  A779  A780  A781  A782  A783  A784  label  \n",
       "0     0     0     0     0     0     0     0     0      0  \n",
       "1     0     0     0     0     0     0     0     0      0  \n",
       "2     0     0     0     0     0     0     0     0      0  \n",
       "3     0     0     0     0     0     0     0     0      0  \n",
       "4     0     0     0     0     0     0     0     0      0  \n",
       "\n",
       "[5 rows x 786 columns]"
      ]
     },
     "execution_count": 159,
     "metadata": {},
     "output_type": "execute_result"
    }
   ],
   "source": [
    "iads_train_multi_df[:5]"
   ]
  },
  {
   "cell_type": "code",
   "execution_count": 160,
   "metadata": {},
   "outputs": [
    {
     "data": {
      "text/plain": [
       "array([[0, 0, 0, ..., 0, 0, 0],\n",
       "       [0, 0, 0, ..., 0, 0, 0],\n",
       "       [0, 0, 0, ..., 0, 0, 0],\n",
       "       [0, 0, 0, ..., 0, 0, 0],\n",
       "       [0, 0, 0, ..., 0, 0, 0]])"
      ]
     },
     "execution_count": 160,
     "metadata": {},
     "output_type": "execute_result"
    }
   ],
   "source": [
    "train_multi_desc,train_multi_label = np.array(iads_train_multi_df[iads_multi_noms]), np.array(iads_train_multi_df['label'])\n",
    "\n",
    "train_multi_desc[:5]"
   ]
  },
  {
   "cell_type": "code",
   "execution_count": 161,
   "metadata": {},
   "outputs": [
    {
     "data": {
      "text/plain": [
       "array([0, 1, 2, 3, 4, 5, 6, 7, 8, 9])"
      ]
     },
     "execution_count": 161,
     "metadata": {},
     "output_type": "execute_result"
    }
   ],
   "source": [
    "np.unique(train_multi_label)"
   ]
  },
  {
   "cell_type": "code",
   "execution_count": 162,
   "metadata": {},
   "outputs": [
    {
     "name": "stdout",
     "output_type": "stream",
     "text": [
      "(2000, 784) (2000,)\n"
     ]
    }
   ],
   "source": [
    "test_multi_desc, test_multi_label = np.array(iads_test_multi_df[iads_noms]), np.array(iads_test_multi_df['label'])\n",
    "\n",
    "print(test_multi_desc.shape,test_multi_label.shape)"
   ]
  },
  {
   "cell_type": "code",
   "execution_count": 163,
   "metadata": {},
   "outputs": [
    {
     "name": "stdout",
     "output_type": "stream",
     "text": [
      "(2000, 784) (2000,)\n"
     ]
    }
   ],
   "source": [
    "eval_multi_desc, eval_multi_label, eval_multi_ident = np.array(iads_eval_multi_df[iads_noms]), np.array(iads_eval_multi_df['label']), np.array(iads_eval_multi_df['ident'])\n",
    "\n",
    "print(eval_multi_desc.shape,eval_multi_label.shape)"
   ]
  },
  {
   "cell_type": "markdown",
   "metadata": {},
   "source": [
    "## Test sur les différents classifieurs"
   ]
  },
  {
   "cell_type": "code",
   "execution_count": 225,
   "metadata": {},
   "outputs": [],
   "source": [
    "# Juste un changement de notations non obligé, juste une habitude\n",
    "Xapp_multi,Yapp_multi,Xtest_multi,Ytest_multi = train_multi_desc,train_multi_label,test_multi_desc,test_multi_label"
   ]
  },
  {
   "cell_type": "markdown",
   "metadata": {},
   "source": [
    "### Classifieur KNN"
   ]
  },
  {
   "cell_type": "markdown",
   "metadata": {},
   "source": [
    "Pour des valeurs de k entre 1 et 15, j'apprends sur les données train et puis j'évalue le model avec les données de test"
   ]
  },
  {
   "cell_type": "code",
   "execution_count": 259,
   "metadata": {},
   "outputs": [
    {
     "name": "stdout",
     "output_type": "stream",
     "text": [
      "  k= 1 precision: 0.8925 en 395.40997314453125 secondes\n",
      "  k= 2 precision: 0.8795 en 364.15876293182373 secondes\n",
      "  k= 3 precision: 0.8955 en 360.78883600234985 secondes\n",
      "  k= 4 precision: 0.8955 en 354.01795411109924 secondes\n",
      "  k= 5 precision: 0.9025 en 360.4409878253937 secondes\n",
      "  k= 6 precision: 0.8965 en 372.9161469936371 secondes\n",
      "  k= 7 precision: 0.899 en 390.75980496406555 secondes\n",
      "  k= 8 precision: 0.894 en 384.66838788986206 secondes\n",
      "  k= 9 precision: 0.8925 en 375.9965491294861 secondes\n",
      "  k= 10 precision: 0.89 en 373.9530532360077 secondes\n",
      "  k= 11 precision: 0.8885 en 417.2010078430176 secondes\n",
      "  k= 12 precision: 0.8895 en 412.9451730251312 secondes\n",
      "  k= 13 precision: 0.887 en 425.782607793808 secondes\n",
      "  k= 14 precision: 0.882 en 384.5070278644562 secondes\n",
      "  k= 15 precision: 0.8825 en 382.8615131378174 secondes\n"
     ]
    }
   ],
   "source": [
    "# Attention l'execution prend beaucoup de temps\n",
    "for k in range(1,15+1):\n",
    "  cl_knn = ClassifierKNN(Xapp_multi.shape[1], k)\n",
    "  cl_multi = ClassifierMultiOAA(cl_knn)\n",
    "  cl_multi.train(Xapp_multi, Yapp_multi)\n",
    "  \n",
    "  tic= time.time()\n",
    "  acc = cl_multi.accuracy(Xtest_multi, Ytest_multi)\n",
    "  toc= time.time()\n",
    "\n",
    "  print('  k=',k,'precision:',acc,'en',toc-tic,'secondes')"
   ]
  },
  {
   "cell_type": "markdown",
   "metadata": {},
   "source": [
    "Pour le classifieur k plus proches voisins, nous avons le meilleur taux de performance sur les données de test est obtenu avec k=5 pour 90.25% de bonne prédiction."
   ]
  },
  {
   "cell_type": "markdown",
   "metadata": {},
   "source": [
    "#### Validation croisée de knn avec k=5"
   ]
  },
  {
   "cell_type": "code",
   "execution_count": 166,
   "metadata": {},
   "outputs": [
    {
     "name": "stdout",
     "output_type": "stream",
     "text": [
      "Avec le classifier knn, k=5\n",
      "  Perf obtenues :  (0.9360000000000002, 0.00015399999999999916)\n",
      "Résultat en 27.36 secondes en moyenne\n"
     ]
    }
   ],
   "source": [
    "index = np.random.permutation(len(Yapp_multi))\n",
    "Xm = Xapp_multi[index]\n",
    "Ym = Yapp_multi[index]\n",
    "niter = 10\n",
    "perf = []\n",
    "temps = []\n",
    "\n",
    "# ######################## Perceptron\n",
    "for i in range(niter):\n",
    "  Xa,Ya,Xt,Yt = crossval(Xm, Ym, niter, i)\n",
    "  cl_knn = ClassifierKNN(Xa.shape[1], 5)\n",
    "  cl_multi = ClassifierMultiOAA(cl_knn)\n",
    "  cl_multi.train(Xapp_multi, Yapp_multi)\n",
    "  \n",
    "  tic= time.time()\n",
    "  acc = cl_multi.accuracy(Xt, Yt)\n",
    "  toc= time.time()\n",
    "\n",
    "  temps.append(toc-tic)\n",
    "  perf.append(acc)\n",
    "# ######\n",
    "print(\"Avec le classifier knn, k=5\")\n",
    "print(\"  Perf obtenues : \",analyse_perfs(perf))\n",
    "print(f\"Résultat en {(np.mean(temps)):.4} secondes en moyenne\")"
   ]
  },
  {
   "cell_type": "markdown",
   "metadata": {},
   "source": [
    "### Classifieur Perceptron"
   ]
  },
  {
   "cell_type": "code",
   "execution_count": 169,
   "metadata": {},
   "outputs": [
    {
     "name": "stdout",
     "output_type": "stream",
     "text": [
      "Perceptron\n",
      "  precision: 0.8395 en 11.181117057800293 secondes\n"
     ]
    }
   ],
   "source": [
    "perc = ClassifierPerceptron(Xapp_multi.shape[1], 1e-5)\n",
    "cl_multi = ClassifierMultiOAA(perc)\n",
    "tic= time.time()\n",
    "cl_multi.train(Xapp_multi, Yapp_multi)\n",
    "toc= time.time()\n",
    "\n",
    "print('Perceptron')\n",
    "print('  precision:',cl_multi.accuracy(Xtest_multi, Ytest_multi),'en',toc-tic,'secondes')"
   ]
  },
  {
   "cell_type": "markdown",
   "metadata": {},
   "source": [
    "Le taux de performance de 83.3% pour des learning_rate entre [1e-5,1e-2].\n",
    "Le classifieur perceptron est moins performant que celui des k plus proches voisins."
   ]
  },
  {
   "cell_type": "markdown",
   "metadata": {},
   "source": [
    "#### Validation croisée avec perceptron"
   ]
  },
  {
   "cell_type": "code",
   "execution_count": 167,
   "metadata": {},
   "outputs": [
    {
     "name": "stdout",
     "output_type": "stream",
     "text": [
      "Avec le classifier Perceptron\n",
      "  Perf obtenues :  (0.8324999999999999, 0.00034124999999999976)\n",
      "Résultat en 4.173 secondes en moyenne\n"
     ]
    }
   ],
   "source": [
    "index = np.random.permutation(len(Yapp_multi))\n",
    "Xm = Xapp_multi[index]\n",
    "Ym = Yapp_multi[index]\n",
    "niter = 10\n",
    "perf = []\n",
    "temps = []\n",
    "\n",
    "# ######################## Perceptron\n",
    "for i in range(niter):\n",
    "  Xa,Ya,Xt,Yt = crossval(Xm, Ym, niter, i)\n",
    "  perc = ClassifierPerceptron(Xa.shape[1], 1e-5)\n",
    "  cl_multi = ClassifierMultiOAA(perc)\n",
    "  tic= time.time()\n",
    "  cl_multi.train(Xa, Ya)\n",
    "  toc= time.time()\n",
    "\n",
    "  temps.append(toc-tic)\n",
    "  perf.append(cl_multi.accuracy(Xt, Yt))\n",
    "# ######\n",
    "print(\"Avec le classifier Perceptron\")\n",
    "print(\"  Perf obtenues : \",analyse_perfs(perf))\n",
    "print(f\"Résultat en {(np.mean(temps)):.4} secondes en moyenne\")"
   ]
  },
  {
   "cell_type": "markdown",
   "metadata": {},
   "source": [
    "### Classifieur Perceptron biais"
   ]
  },
  {
   "cell_type": "code",
   "execution_count": 168,
   "metadata": {},
   "outputs": [
    {
     "name": "stdout",
     "output_type": "stream",
     "text": [
      "Perceptron Biais\n",
      "  precision: 0.833 en 10.927377223968506 secondes\n"
     ]
    }
   ],
   "source": [
    "perc = ClassifierPerceptronBiais(Xapp_multi.shape[1], 1e-5)\n",
    "cl_multi = ClassifierMultiOAA(perc)\n",
    "tic= time.time()\n",
    "cl_multi.train(Xapp_multi, Yapp_multi)\n",
    "toc= time.time()\n",
    "\n",
    "print('Perceptron Biais')\n",
    "print('  precision:',cl_multi.accuracy(Xtest_multi, Ytest_multi),'en',toc-tic,'secondes')"
   ]
  },
  {
   "cell_type": "markdown",
   "metadata": {},
   "source": [
    "Performance pareille que celle du perceptron classique."
   ]
  },
  {
   "cell_type": "code",
   "execution_count": 170,
   "metadata": {},
   "outputs": [
    {
     "name": "stdout",
     "output_type": "stream",
     "text": [
      "Avec le classifier Perceptron biais\n",
      "  Perf obtenues :  (0.8445, 0.0009572500000000001)\n",
      "Résultat en 3.727 secondes en moyenne\n"
     ]
    }
   ],
   "source": [
    "index = np.random.permutation(len(Yapp_multi))\n",
    "Xm = Xapp_multi[index]\n",
    "Ym = Yapp_multi[index]\n",
    "niter = 10\n",
    "perf = []\n",
    "temps = []\n",
    "\n",
    "# ######################## Perceptron\n",
    "for i in range(niter):\n",
    "  Xa,Ya,Xt,Yt = crossval(Xm, Ym, niter, i)\n",
    "  perc = ClassifierPerceptronBiais(Xa.shape[1], 1e-5)\n",
    "  cl_multi = ClassifierMultiOAA(perc)\n",
    "  tic= time.time()\n",
    "  cl_multi.train(Xa, Ya)\n",
    "  toc= time.time()\n",
    "\n",
    "  temps.append(toc-tic)\n",
    "  perf.append(cl_multi.accuracy(Xt, Yt))\n",
    "# ######\n",
    "print(\"Avec le classifier Perceptron biais\")\n",
    "print(\"  Perf obtenues : \",analyse_perfs(perf))\n",
    "print(f\"Résultat en {(np.mean(temps)):.4} secondes en moyenne\")"
   ]
  },
  {
   "cell_type": "markdown",
   "metadata": {},
   "source": [
    "### Classifieur Perceptron Kernel Bias"
   ]
  },
  {
   "cell_type": "code",
   "execution_count": 172,
   "metadata": {},
   "outputs": [],
   "source": [
    "noyau = KernelBias(Xapp_multi.shape[1],Xapp_multi.shape[1]+1)"
   ]
  },
  {
   "cell_type": "code",
   "execution_count": 173,
   "metadata": {},
   "outputs": [
    {
     "name": "stdout",
     "output_type": "stream",
     "text": [
      "Perceptron Kernel\n",
      "  precision: 0.831 en 11.917628288269043 secondes\n"
     ]
    }
   ],
   "source": [
    "perc = ClassifierPerceptronKernel(Xapp_multi.shape[1], 1e-5,noyau)\n",
    "cl_multi = ClassifierMultiOAA(perc)\n",
    "tic= time.time()\n",
    "cl_multi.train(Xapp_multi, Yapp_multi)\n",
    "toc= time.time()\n",
    "\n",
    "print('Perceptron Kernel')\n",
    "print('  precision:',cl_multi.accuracy(Xtest_multi, Ytest_multi),'en',toc-tic,'secondes')"
   ]
  },
  {
   "cell_type": "code",
   "execution_count": 174,
   "metadata": {},
   "outputs": [
    {
     "name": "stdout",
     "output_type": "stream",
     "text": [
      "Avec le classifier Perceptron kernel bias\n",
      "  Perf obtenues :  (0.836, 0.0007089999999999998)\n",
      "Résultat en 4.346 secondes en moyenne\n"
     ]
    }
   ],
   "source": [
    "index = np.random.permutation(len(Yapp_multi))\n",
    "Xm = Xapp_multi[index]\n",
    "Ym = Yapp_multi[index]\n",
    "niter = 10\n",
    "perf = []\n",
    "temps = []\n",
    "\n",
    "# ######################## Perceptron\n",
    "for i in range(niter):\n",
    "  Xa,Ya,Xt,Yt = crossval(Xm, Ym, niter, i)\n",
    "  perc = ClassifierPerceptronKernel(Xa.shape[1], 1e-5,noyau)\n",
    "  cl_multi = ClassifierMultiOAA(perc)\n",
    "  tic= time.time()\n",
    "  cl_multi.train(Xa, Ya)\n",
    "  toc= time.time()\n",
    "\n",
    "  temps.append(toc-tic)\n",
    "  perf.append(cl_multi.accuracy(Xt, Yt))\n",
    "# ######\n",
    "print(\"Avec le classifier Perceptron kernel bias\")\n",
    "print(\"  Perf obtenues : \",analyse_perfs(perf))\n",
    "print(f\"Résultat en {(np.mean(temps)):.4} secondes en moyenne\")"
   ]
  },
  {
   "cell_type": "markdown",
   "metadata": {},
   "source": [
    "### Classifieur Perceptron Kernel Poly"
   ]
  },
  {
   "cell_type": "code",
   "execution_count": 176,
   "metadata": {},
   "outputs": [],
   "source": [
    "# Seule la première dimension est intéressante\n",
    "noyau = KernelPoly(Xapp_multi.shape[1],Xapp_multi.shape[1]+1)"
   ]
  },
  {
   "cell_type": "code",
   "execution_count": 111,
   "metadata": {},
   "outputs": [],
   "source": [
    "# Il est impraticable il me prend trop de temps, plus d'une heure\n",
    "perc = ClassifierPerceptronKernel(Xapp_multi.shape[1], 1e-5,noyau)\n",
    "cl_multi = ClassifierMultiOAA(perc)\n",
    "tic= time.time()\n",
    "cl_multi.train(Xapp_multi, Yapp_multi)\n",
    "toc= time.time()\n",
    "\n",
    "print('Perceptron Kernel')\n",
    "print('  precision:',cl_multi.accuracy(Xtest_multi, Ytest_multi),'en',toc-tic,'secondes')"
   ]
  },
  {
   "cell_type": "markdown",
   "metadata": {},
   "source": [
    "### Choix du classifieur des k plus proches voisins avec k=5."
   ]
  },
  {
   "cell_type": "markdown",
   "metadata": {},
   "source": [
    "Le classifieur des k plus proches voisins offre les meilleurs performances que tous les autres classifieurs étudiés ici."
   ]
  },
  {
   "cell_type": "code",
   "execution_count": 175,
   "metadata": {},
   "outputs": [],
   "source": [
    "# Attention l'execution prend un peu de temps 3m36 chez moi\n",
    "cl_knn = ClassifierKNN(Xapp_multi.shape[1],5)\n",
    "cl_multi = ClassifierMultiOAA(cl_knn)\n",
    "cl_multi.train(Xapp_multi,Yapp_multi)\n",
    "\n",
    "for i in range(0,eval_desc.shape[0]):\n",
    "  eval_multi_label[i] = cl_multi.predict(eval_multi_desc[i])  # prediction de chaque xi"
   ]
  },
  {
   "cell_type": "code",
   "execution_count": 59,
   "metadata": {},
   "outputs": [],
   "source": [
    "eval_multi_df = pd.DataFrame({'ident':eval_multi_ident,'label':eval_multi_label})\n",
    "eval_multi_df[:5]\n",
    "\n",
    "# Fichier csv à rendre\n",
    "eval_multi_df.to_csv('Bases_IADS_multiclasses/eval_multi-Mbaye.csv',sep=\";\",index=False,header=False)"
   ]
  },
  {
   "cell_type": "markdown",
   "metadata": {},
   "source": [
    "### Réduction de dimensionnalité"
   ]
  },
  {
   "cell_type": "code",
   "execution_count": 235,
   "metadata": {},
   "outputs": [
    {
     "name": "stderr",
     "output_type": "stream",
     "text": [
      "/usr/local/lib/python3.9/site-packages/matplotlib/collections.py:206: ComplexWarning: Casting complex values to real discards the imaginary part\n",
      "  offsets = np.asanyarray(offsets, float)\n"
     ]
    },
    {
     "data": {
      "text/plain": [
       "<matplotlib.legend.Legend at 0x11726d0a0>"
      ]
     },
     "execution_count": 235,
     "metadata": {},
     "output_type": "execute_result"
    },
    {
     "data": {
      "image/png": "[encoded data removed]",
      "text/plain": [
       "<Figure size 432x288 with 1 Axes>"
      ]
     },
     "metadata": {
      "needs_background": "light"
     },
     "output_type": "display_data"
    }
   ],
   "source": [
    "import matplotlib.pyplot as plt\n",
    "\n",
    "lam, vp = np.linalg.eig(Xapp_multi.T@Xapp_multi)\n",
    "\n",
    "lam_tries_arg = np.argsort(lam)\n",
    "lam_2_max = np.sort(lam_tries_arg[-2:])\n",
    "vp_2 = vp[:,lam_2_max]\n",
    "\n",
    "Xapp_2D = Xapp_multi@vp_2\n",
    "\n",
    "plt.figure()\n",
    "for c in range(0,10):\n",
    "  Xc = Xapp_2D[Yapp_multi==c]\n",
    "  plt.scatter(Xc[:,0],Xc[:,1])\n",
    "\n",
    "\n",
    "plt.legend(np.arange(10))"
   ]
  }
 ],
 "metadata": {
  "kernelspec": {
   "display_name": "Python 3",
   "language": "python",
   "name": "python3"
  },
  "language_info": {
   "codemirror_mode": {
    "name": "ipython",
    "version": 3
   },
   "file_extension": ".py",
   "mimetype": "text/x-python",
   "name": "python",
   "nbconvert_exporter": "python",
   "pygments_lexer": "ipython3",
   "version": "3.9.10"
  }
 },
 "nbformat": 4,
 "nbformat_minor": 1
}
